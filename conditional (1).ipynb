{
 "cells": [
  {
   "cell_type": "code",
   "execution_count": 2,
   "id": "0e3c1819-9f43-47a4-a4ad-fbdecac08fe8",
   "metadata": {},
   "outputs": [],
   "source": [
    "#1. check if no.is positive ,negative orzero"
   ]
  },
  {
   "cell_type": "code",
   "execution_count": 7,
   "id": "10a75c9e-89a4-4af5-87bc-010ae9adc22c",
   "metadata": {},
   "outputs": [
    {
     "name": "stdin",
     "output_type": "stream",
     "text": [
      "enter any number -4\n"
     ]
    }
   ],
   "source": [
    "a=int(input(\"enter any number\"))"
   ]
  },
  {
   "cell_type": "code",
   "execution_count": 8,
   "id": "3efb51bc-69b2-41cc-895d-33ecaa791dbd",
   "metadata": {},
   "outputs": [
    {
     "name": "stdout",
     "output_type": "stream",
     "text": [
      "number is negative\n"
     ]
    }
   ],
   "source": [
    "if(a > 0):\n",
    "    print(\"number is positive\")\n",
    "elif(a==0):\n",
    "    print(\"number is zero\")\n",
    "elif (a < 0):\n",
    "    print(\"number is negative\")"
   ]
  },
  {
   "cell_type": "code",
   "execution_count": 9,
   "id": "e2850bae-3e83-4a52-8925-e9ac6a27a587",
   "metadata": {},
   "outputs": [],
   "source": [
    "#2.determine if a person is eligible  to vote or not"
   ]
  },
  {
   "cell_type": "code",
   "execution_count": 11,
   "id": "af166f87-c2f3-4327-8fbd-076039bd645f",
   "metadata": {},
   "outputs": [
    {
     "name": "stdout",
     "output_type": "stream",
     "text": [
      "person is not eligible to vote\n"
     ]
    }
   ],
   "source": [
    "age=15\n",
    "if(age>18):\n",
    "    print(\"person is  eligible to vote\")\n",
    "else:\n",
    "    print(\"person is not eligible to vote\")"
   ]
  },
  {
   "cell_type": "code",
   "execution_count": 12,
   "id": "73a73a4b-331d-43b2-ac0e-59ec715dde07",
   "metadata": {},
   "outputs": [],
   "source": [
    "#3.max of two numbers using ifelse\n"
   ]
  },
  {
   "cell_type": "code",
   "execution_count": 6,
   "id": "73b717e9-80d6-47d1-9b00-b062d136ad9e",
   "metadata": {},
   "outputs": [
    {
     "name": "stdin",
     "output_type": "stream",
     "text": [
      "enter first number 4\n",
      "enter second number 5\n"
     ]
    }
   ],
   "source": [
    "a=input(\"enter first number\")\n",
    "b=input(\"enter second number\")\n",
    "\n",
    "\n",
    "\n",
    "\n",
    "\n"
   ]
  },
  {
   "cell_type": "code",
   "execution_count": 7,
   "id": "ebbe930e-45d7-4b74-a2c2-3166a422c6cc",
   "metadata": {},
   "outputs": [
    {
     "name": "stdout",
     "output_type": "stream",
     "text": [
      "b is max\n"
     ]
    }
   ],
   "source": [
    "if(a>b):\n",
    "   print(\"a is max\")\n",
    "else:\n",
    "   print(\"b is max\")   "
   ]
  },
  {
   "cell_type": "code",
   "execution_count": null,
   "id": "8b422f58-b84e-4f80-9393-96a143342e5d",
   "metadata": {},
   "outputs": [],
   "source": [
    "#4.classify a given year as leap year or not"
   ]
  },
  {
   "cell_type": "code",
   "execution_count": 1,
   "id": "eee8f0e2-2690-4de6-8ab6-1526c4c6c25b",
   "metadata": {},
   "outputs": [
    {
     "name": "stdin",
     "output_type": "stream",
     "text": [
      "enter year to be checked 2024\n"
     ]
    },
    {
     "name": "stdout",
     "output_type": "stream",
     "text": [
      "the year is a leap year\n"
     ]
    }
   ],
   "source": [
    "y=int(input (\"enter year to be checked\"))\n",
    "if(y % 4 ==0 and y % 100!=0 or y %400 ==0):\n",
    "    print(\"the year is a leap year\")\n",
    "else:\n",
    "    print(\"the year is not a leap year\")\n",
    "    \n",
    "\n"
   ]
  },
  {
   "cell_type": "code",
   "execution_count": 1,
   "id": "9544a5f4-7043-4e76-aad4-85c48f60631b",
   "metadata": {},
   "outputs": [],
   "source": [
    "#5.check whether a character is a vowel or a consonant"
   ]
  },
  {
   "cell_type": "code",
   "execution_count": 2,
   "id": "1a46017c-ebba-4ba4-841b-224ae7eeef43",
   "metadata": {},
   "outputs": [
    {
     "name": "stdin",
     "output_type": "stream",
     "text": [
      "enter any character d\n"
     ]
    }
   ],
   "source": [
    "c=input(\"enter any character\")"
   ]
  },
  {
   "cell_type": "code",
   "execution_count": 5,
   "id": "5877aecc-ba3e-4efc-b5b8-3609895c9e5f",
   "metadata": {},
   "outputs": [
    {
     "name": "stdout",
     "output_type": "stream",
     "text": [
      "c is a consonant\n"
     ]
    }
   ],
   "source": [
    "if(c=='a')or(c=='e')or(c=='i')or(c=='o')or(c=='u'):\n",
    "    print(\"c is a vowel\")\n",
    "else:\n",
    "    print(\"c is a consonant\")\n"
   ]
  },
  {
   "cell_type": "code",
   "execution_count": 1,
   "id": "a00a2926-7d01-4fc9-8aa5-e1f2a2604284",
   "metadata": {},
   "outputs": [],
   "source": [
    "#6 check whether a given number is even or odd"
   ]
  },
  {
   "cell_type": "code",
   "execution_count": 3,
   "id": "8ab12f22-dac3-4ecd-8d7a-9222f285a720",
   "metadata": {},
   "outputs": [
    {
     "name": "stdout",
     "output_type": "stream",
     "text": [
      "number is odd\n"
     ]
    }
   ],
   "source": [
    "a=45\n",
    "if(a%2==0):\n",
    "    print(\"number is even\")\n",
    "else:\n",
    "    print(\"number is odd\")\n",
    "    \n"
   ]
  },
  {
   "cell_type": "code",
   "execution_count": 4,
   "id": "6d9e5a57-351c-4078-9605-8bb19ef3af0b",
   "metadata": {},
   "outputs": [],
   "source": [
    "#7. calculate the absolute value of a number using abs()\n"
   ]
  },
  {
   "cell_type": "code",
   "execution_count": 5,
   "id": "6a51d974-df12-40e2-a6bd-d9fb6e424d92",
   "metadata": {},
   "outputs": [
    {
     "name": "stdout",
     "output_type": "stream",
     "text": [
      "45\n"
     ]
    }
   ],
   "source": [
    "b=abs(a)\n",
    "print(b)"
   ]
  },
  {
   "cell_type": "code",
   "execution_count": 6,
   "id": "da22967f-0dc4-4204-8994-7e3526efd945",
   "metadata": {},
   "outputs": [],
   "source": [
    "#8. find largest of three numbers using if else statement\n"
   ]
  },
  {
   "cell_type": "code",
   "execution_count": 8,
   "id": "512b89ab-2450-475d-95a0-cfefaea6ca3e",
   "metadata": {},
   "outputs": [
    {
     "name": "stdout",
     "output_type": "stream",
     "text": [
      "c is the largest\n"
     ]
    }
   ],
   "source": [
    "a,b,c=10,34,65\n",
    "if(a>b)and(a>c):\n",
    "    print(\"a is the largest\")\n",
    "elif(b>c)and(b>a):\n",
    "    print(\"b is the largest\")\n",
    "else:\n",
    "    print(\"c is the largest\")"
   ]
  },
  {
   "cell_type": "code",
   "execution_count": 9,
   "id": "003bdcb7-dd58-4f6a-aa17-5a86626eb4e0",
   "metadata": {},
   "outputs": [],
   "source": [
    "#9. check if a string is a palindrome\n"
   ]
  },
  {
   "cell_type": "code",
   "execution_count": 12,
   "id": "bd5c2853-b8f1-4746-9d70-4eb05a194fbb",
   "metadata": {},
   "outputs": [
    {
     "name": "stdout",
     "output_type": "stream",
     "text": [
      "string is not a palindrome\n"
     ]
    }
   ],
   "source": [
    "s1=\"greetings\"\n",
    "s2=s1[::-1]\n",
    "if(s1==s2):\n",
    "    print(\"string is a palindrome\")\n",
    "else:\n",
    "    print(\"string is not a palindrome\")"
   ]
  },
  {
   "cell_type": "code",
   "execution_count": null,
   "id": "d3ff987e-7927-4c99-bf2f-ef596e1900e9",
   "metadata": {},
   "outputs": [],
   "source": [
    "#10.calculate the grade based on student's  score"
   ]
  },
  {
   "cell_type": "code",
   "execution_count": 13,
   "id": "5d9d7a0d-1823-4842-acf8-aa24155b2ddd",
   "metadata": {},
   "outputs": [
    {
     "name": "stdout",
     "output_type": "stream",
     "text": [
      "You got a 'B' on the exam.\n"
     ]
    }
   ],
   "source": [
    "grade = 85\n",
    "if grade >= 90:\n",
    "    print(\"You got an 'A' on the exam.\") \n",
    "elif grade >= 80:\n",
    "    print(\"You got a 'B' on the exam.\")\n",
    "elif grade >= 70: \n",
    "    print(\"You got a 'C' on the exam.\") \n",
    "elif grade >= 60: \n",
    "    print(\"You got a 'D' on the exam.\") \n",
    "else:\n",
    "    print(\"You got an 'F' on the exam.\")"
   ]
  },
  {
   "cell_type": "code",
   "execution_count": 14,
   "id": "fe648265-ffa9-42df-8dcb-f4978a6f3335",
   "metadata": {},
   "outputs": [],
   "source": [
    "#11.largest of three numbers using nested if else statements\n"
   ]
  },
  {
   "cell_type": "code",
   "execution_count": 15,
   "id": "5ea68723-2b14-400a-bed3-528750fddc93",
   "metadata": {},
   "outputs": [
    {
     "name": "stdin",
     "output_type": "stream",
     "text": [
      "Enter A:  23\n",
      "Enter B:  45\n",
      "Enter C:  34\n"
     ]
    },
    {
     "name": "stdout",
     "output_type": "stream",
     "text": [
      "Greater  =  45\n"
     ]
    }
   ],
   "source": [
    "a=int(input(\"Enter A: \"))\n",
    "b=int(input(\"Enter B: \"))\n",
    "c=int(input(\"Enter C: \"))\n",
    "\n",
    "if a>b:\n",
    "    if a>c:\n",
    "        g=a\n",
    "    else:\n",
    "        g=c\n",
    "else:\n",
    "    if b>c:\n",
    "        g=b\n",
    "    else:\n",
    "        g=c\n",
    "\n",
    "# print the largest number \n",
    "print(\"Greater  = \",g)"
   ]
  },
  {
   "cell_type": "code",
   "execution_count": 16,
   "id": "6b0c0ede-51e9-4852-b8be-59e12d6d6bb7",
   "metadata": {},
   "outputs": [],
   "source": [
    "#12.Implement a program to determine if a triangle is equilateral, isosceles, or scalene.\n"
   ]
  },
  {
   "cell_type": "code",
   "execution_count": 27,
   "id": "e0c5a2ec-eb2d-44ba-bc53-10e105b8220b",
   "metadata": {},
   "outputs": [
    {
     "name": "stdin",
     "output_type": "stream",
     "text": [
      "Enter AB:  23\n",
      "Enter BC:  45\n",
      "Enter CA:  34\n"
     ]
    },
    {
     "name": "stdout",
     "output_type": "stream",
     "text": [
      "triangle is scalene\n"
     ]
    }
   ],
   "source": [
    "AB=int(input(\"Enter AB: \"))\n",
    "BC=int(input(\"Enter BC: \"))\n",
    "AC=int(input(\"Enter CA: \"))\n",
    "\n",
    "if (AB==BC):\n",
    "    if (AB==AC):\n",
    "        print(\"triangle is equilateral\")\n",
    "    else:\n",
    "        print(\"triangle is isosceles\")\n",
    "else:\n",
    "    if(AB!=AC):\n",
    "        print(\"triangle is scalene\")\n",
    "    \n",
    "    \n"
   ]
  },
  {
   "cell_type": "code",
   "execution_count": 28,
   "id": "e936fd4e-69d6-4d98-9453-ff5280873bfa",
   "metadata": {},
   "outputs": [],
   "source": [
    "#13. Develop a program that checks if a year is a leap year and also if it is a century year.\n"
   ]
  },
  {
   "cell_type": "code",
   "execution_count": 3,
   "id": "c83c3c5e-cc41-4af4-a5f6-a32b1631d9f1",
   "metadata": {},
   "outputs": [
    {
     "name": "stdout",
     "output_type": "stream",
     "text": [
      "2000 is a leap year\n"
     ]
    }
   ],
   "source": [
    "year = 2000\n",
    "\n",
    "# To get year (integer input) from the user\n",
    "# year = int(input(\"Enter a year: \"))\n",
    "\n",
    "# divided by 100 means century year (ending with 00)\n",
    "# century year divided by 400 is leap year\n",
    "if (year % 400 == 0) and (year % 100 == 0):\n",
    "    print(\"{0} is a leap year\".format(year))\n",
    "\n",
    "# not divided by 100 means not a century year\n",
    "# year divided by 4 is a leap year\n",
    "elif (year % 4 ==0) and (year % 100 != 0):\n",
    "    print(\"{0} is a leap year\".format(year))\n",
    "\n",
    "# if not divided by both 400 (century year) and 4 (not century year)\n",
    "# year is not leap year\n",
    "else:\n",
    "    print(\"{0} is not a leap year\".format(year))\n",
    "\n"
   ]
  },
  {
   "cell_type": "code",
   "execution_count": 30,
   "id": "5784df0e-a8f8-4303-a47b-b254623acf0e",
   "metadata": {},
   "outputs": [],
   "source": [
    "#14. Write a Python script to determine if a number is positive, negative, or zero."
   ]
  },
  {
   "cell_type": "code",
   "execution_count": 1,
   "id": "8f00ae53-72e4-46e1-9601-4b2063d1457a",
   "metadata": {},
   "outputs": [
    {
     "name": "stdin",
     "output_type": "stream",
     "text": [
      "enter any number -2\n"
     ]
    },
    {
     "name": "stdout",
     "output_type": "stream",
     "text": [
      "number is less than zero\n"
     ]
    }
   ],
   "source": [
    "a=int(input(\"enter any number\"))\n",
    "if(a>0):\n",
    "    print(\"number is positive\")\n",
    "else:\n",
    "    if(a<0):\n",
    "        print(\"number is less than zero\")\n",
    "    else:\n",
    "        print(\"number is equal to zero\")\n",
    "\n"
   ]
  },
  {
   "cell_type": "code",
   "execution_count": 34,
   "id": "07320146-6918-409f-9b30-bf4e8be28e60",
   "metadata": {},
   "outputs": [],
   "source": [
    "#15. Create a program to check if a person is a teenager (between 13 and 19 years old)."
   ]
  },
  {
   "cell_type": "code",
   "execution_count": 9,
   "id": "dd0340b2-f57d-4aff-ba41-cdb288e20268",
   "metadata": {},
   "outputs": [
    {
     "name": "stdout",
     "output_type": "stream",
     "text": [
      "person is a teenager\n"
     ]
    }
   ],
   "source": [
    "age=19\n",
    "if(age>=13):\n",
    "    if(age<=19):\n",
    "        print(\"person is a teenager\")\n",
    "    else:\n",
    "        print(\"person is not a teenager\")\n",
    "else:\n",
    "    print(\"person is still not a teenager\")"
   ]
  },
  {
   "cell_type": "code",
   "execution_count": 39,
   "id": "0f0a3c27-52d6-4fb8-a472-7d6471bf94e3",
   "metadata": {},
   "outputs": [],
   "source": [
    "#16. Develop a program that determines the type of angle based on its measure (acute, obtuse, or right).\n"
   ]
  },
  {
   "cell_type": "code",
   "execution_count": 14,
   "id": "122fe0f7-6c2e-4c58-9913-8fbc2eb9379a",
   "metadata": {},
   "outputs": [
    {
     "name": "stdout",
     "output_type": "stream",
     "text": [
      "right angle\n"
     ]
    }
   ],
   "source": [
    "angle=90\n",
    "if(angle>90):\n",
    "    if(angle<180):\n",
    "        print(\"obtuse angle\")\n",
    "else:\n",
    "    if(angle<90):\n",
    "        print(\"acute angle\")\n",
    "    else:\n",
    "        print(\"right angle\")\n",
    "    "
   ]
  },
  {
   "cell_type": "code",
   "execution_count": null,
   "id": "e4d810f2-daf5-43d2-8fdd-bb90a80cc2f8",
   "metadata": {},
   "outputs": [],
   "source": [
    "#17. calculate the roots of  quadratic equation"
   ]
  },
  {
   "cell_type": "code",
   "execution_count": 2,
   "id": "a9773c87-43c0-4a6d-8ebb-04f31996992f",
   "metadata": {},
   "outputs": [
    {
     "name": "stdin",
     "output_type": "stream",
     "text": [
      "enter the value of a 20\n",
      "enter the value of b 12\n",
      "enter the value of c 12\n"
     ]
    }
   ],
   "source": [
    "a=int(input(\"enter the value of a\"))\n",
    "b=int(input(\"enter the value of b\"))\n",
    "c=int(input(\"enter the value of c\"))\n",
    "D=(b*b-4*a*c)"
   ]
  },
  {
   "cell_type": "code",
   "execution_count": 16,
   "id": "bb111968-b60b-4c8f-bf7e-6cef9816afae",
   "metadata": {},
   "outputs": [
    {
     "data": {
      "text/plain": [
       "-2624"
      ]
     },
     "execution_count": 16,
     "metadata": {},
     "output_type": "execute_result"
    }
   ],
   "source": [
    "D\n"
   ]
  },
  {
   "cell_type": "code",
   "execution_count": 7,
   "id": "ec62b6a4-98bf-4d30-ab78-8ab47707988c",
   "metadata": {},
   "outputs": [],
   "source": [
    "e=D**0.5\n",
    "root1=(-b+e)/2*a\n",
    "\n",
    "root2=(-b-e)/2*a\n"
   ]
  },
  {
   "cell_type": "code",
   "execution_count": 9,
   "id": "0fd5b0ae-829e-465d-9b95-f12e01af6de2",
   "metadata": {},
   "outputs": [
    {
     "name": "stdout",
     "output_type": "stream",
     "text": [
      "roots does not exist\n"
     ]
    }
   ],
   "source": [
    "if D>0:\n",
    "    print(\"roots are real and distinct\")\n",
    "else:\n",
    "    if D==0:\n",
    "        print(\"roots are equal\")\n",
    "    else: \n",
    "        print(\"roots does not exist\")  \n",
    " "
   ]
  },
  {
   "cell_type": "code",
   "execution_count": 13,
   "id": "5cfdbdbe-e046-411e-a426-22080b5d1528",
   "metadata": {},
   "outputs": [],
   "source": [
    "#18. program to determine the day of the week based on a user-provided number\n"
   ]
  },
  {
   "cell_type": "code",
   "execution_count": 14,
   "id": "8ed0e18e-1867-4ad7-b516-164e1b5454c9",
   "metadata": {},
   "outputs": [
    {
     "name": "stdin",
     "output_type": "stream",
     "text": [
      "enter any number 5\n"
     ]
    },
    {
     "name": "stdout",
     "output_type": "stream",
     "text": [
      "the DOW is Friday\n"
     ]
    }
   ],
   "source": [
    "x=int(input(\"enter any number\"))\n",
    "\n",
    "if x==1:\n",
    "    print(\"the day of week is Monday\")\n",
    "else:\n",
    "    if x==2:\n",
    "         print(\"the DOW is Tuesday\")\n",
    "    if x==3:\n",
    "         print(\"the DOW is Wednesday\")  \n",
    "    if x==4:\n",
    "         print(\"the DOW is Thursday\")\n",
    "    if x==5:\n",
    "         print(\"the DOW is Friday\")\n",
    "    if x==6:\n",
    "         print(\"the DOW is Saturday\")\n",
    "    if x==7:\n",
    "         print(\"the DOW is Sunday\")\n",
    "             \n",
    "        \n",
    "        \n",
    "        \n",
    "        \n",
    "        \n",
    "        "
   ]
  },
  {
   "cell_type": "code",
   "execution_count": 15,
   "id": "9007488d-585f-437f-beea-5cf6aa78ad3b",
   "metadata": {},
   "outputs": [],
   "source": [
    "#19. program that determines if a year is a leap year and also if it is evenly divisible by 400."
   ]
  },
  {
   "cell_type": "code",
   "execution_count": null,
   "id": "391cc029-8f79-4b2e-9141-e568716f8935",
   "metadata": {},
   "outputs": [
    {
     "name": "stdin",
     "output_type": "stream",
     "text": [
      "Enter year to be checked: 2024\n"
     ]
    },
    {
     "name": "stdout",
     "output_type": "stream",
     "text": [
      "The year is a leap year!\n"
     ]
    }
   ],
   "source": [
    "year=int(input(\"Enter year to be checked:\"))\n",
    "if(year%4==0 and year%100!=0 or year%400==0):\n",
    "    print(\"The year is a leap year!\")\n",
    "else:\n",
    "    print(\"The year isn't a leap year!\")"
   ]
  },
  {
   "cell_type": "code",
   "execution_count": 16,
   "id": "c4e88b34-4fe0-4152-96f3-fd04b1ea3971",
   "metadata": {},
   "outputs": [],
   "source": [
    "#20. program that checks if a given number is prime or not using nested if-else statements."
   ]
  },
  {
   "cell_type": "code",
   "execution_count": 13,
   "id": "4ba11ad3-ad31-47e0-8119-fa7b042ccf65",
   "metadata": {},
   "outputs": [
    {
     "name": "stdin",
     "output_type": "stream",
     "text": [
      "enter any number 11\n"
     ]
    }
   ],
   "source": [
    "n=int(input(\"enter any number\"))\n"
   ]
  },
  {
   "cell_type": "code",
   "execution_count": 14,
   "id": "3df809be-5ff5-4116-9f8e-2bf92585a151",
   "metadata": {},
   "outputs": [
    {
     "name": "stdout",
     "output_type": "stream",
     "text": [
      "prime number\n",
      "prime number\n"
     ]
    }
   ],
   "source": [
    "if n <= 1:\n",
    "        print (\"false\")\n",
    "    # Loop through all numbers from 2 to\n",
    "    # the square root of n (rounded down to the nearest integer)\n",
    "for i in range(2, int(n**0.5)+1):\n",
    "        # If n is divisible by any of these numbers, return False\n",
    "        if n % i == 0:\n",
    "            print(\"not a prime number\")    \n",
    "        else:\n",
    "    # If n is not divisible by any of these numbers, return True\n",
    "            print(\"prime number\")"
   ]
  },
  {
   "cell_type": "code",
   "execution_count": 19,
   "id": "5929145d-d9b6-4276-984b-e8197f8edfa7",
   "metadata": {},
   "outputs": [],
   "source": [
    "#21. Write a Python program to assign grades based on different ranges of scores using elif statements.\n"
   ]
  },
  {
   "cell_type": "code",
   "execution_count": 20,
   "id": "2476af3f-1f78-446c-9594-064dc99ceaf4",
   "metadata": {},
   "outputs": [
    {
     "name": "stdin",
     "output_type": "stream",
     "text": [
      "Enter your mark  76\n"
     ]
    },
    {
     "name": "stdout",
     "output_type": "stream",
     "text": [
      "You got B grade\n"
     ]
    }
   ],
   "source": [
    "m=int(input(\"Enter your mark \"))\n",
    "if(m>=80):\n",
    "    print(\"You got A grade\")\n",
    "elif(m>=60):\n",
    "    print(\"You got B grade\")\n",
    "elif(m>=40):\n",
    "    print(\"You got C grade\")\n",
    "else:\n",
    "    print(\"Failed in this Exam \")"
   ]
  },
  {
   "cell_type": "code",
   "execution_count": null,
   "id": "9acc2f44-a95a-4c4c-b9c1-1490d9207b98",
   "metadata": {},
   "outputs": [],
   "source": [
    "#22. Implement a program to determine the type of a triangle based on its angles."
   ]
  },
  {
   "cell_type": "code",
   "execution_count": 21,
   "id": "8c50ec57-1ed4-49c1-af0c-5d88d98873b0",
   "metadata": {},
   "outputs": [
    {
     "name": "stdout",
     "output_type": "stream",
     "text": [
      "right angle\n"
     ]
    }
   ],
   "source": [
    "angle=90\n",
    "if(angle>90) and (angle<180):\n",
    "        print(\"obtuse angle\")\n",
    "elif angle<90:\n",
    "        print(\"acute angle\")\n",
    "else:\n",
    "    print(\"right angle\")\n",
    "    "
   ]
  },
  {
   "cell_type": "code",
   "execution_count": null,
   "id": "ae5cb8d8-a6b0-4322-b8b7-81167039f640",
   "metadata": {},
   "outputs": [],
   "source": [
    "#23. Develop a program to categorize a given person's BMI into underweight, normal, overweight, or obese using\n",
    "elif statements."
   ]
  },
  {
   "cell_type": "code",
   "execution_count": 24,
   "id": "747f88f1-a7aa-4d9b-832a-83f1090a5aea",
   "metadata": {},
   "outputs": [
    {
     "name": "stdin",
     "output_type": "stream",
     "text": [
      " 60\n",
      " 1.6256 \n"
     ]
    },
    {
     "name": "stdout",
     "output_type": "stream",
     "text": [
      "Normal\n"
     ]
    }
   ],
   "source": [
    "weight=float(input())\n",
    "height=float(input())\n",
    "\n",
    "bmi= weight/(height)**2\n",
    "\n",
    "if bmi<18.5:\n",
    "    print(\"Underweight\")\n",
    "elif bmi>=18.5 and bmi<25:\n",
    "    print(\"Normal\")\n",
    "elif bmi>=25 and bmi<30:\n",
    "    print(\"Overweight\")\n",
    "else:\n",
    "    print(\"Obesity\")\n"
   ]
  },
  {
   "cell_type": "code",
   "execution_count": 26,
   "id": "9cae68c4-6d27-4278-a8a1-4cb92d35cce4",
   "metadata": {},
   "outputs": [],
   "source": [
    "#24. Create a program that determines whether a given number is positive, negative, or zero using elif statements\n"
   ]
  },
  {
   "cell_type": "code",
   "execution_count": 27,
   "id": "047c6c70-6341-45ed-b60d-74ba62c9790a",
   "metadata": {},
   "outputs": [],
   "source": [
    "a=5\n"
   ]
  },
  {
   "cell_type": "code",
   "execution_count": 28,
   "id": "ed81f42d-3ff1-40fe-a226-4fa97be6985f",
   "metadata": {},
   "outputs": [
    {
     "name": "stdout",
     "output_type": "stream",
     "text": [
      "number is positive\n"
     ]
    }
   ],
   "source": [
    "if(a > 0):\n",
    "    print(\"number is positive\")\n",
    "elif(a==0):\n",
    "    print(\"number is zero\")\n",
    "elif (a < 0):\n",
    "    print(\"number is negative\")"
   ]
  },
  {
   "cell_type": "code",
   "execution_count": 29,
   "id": "da80b962-5f48-43f7-b627-a1185c549dfc",
   "metadata": {},
   "outputs": [],
   "source": [
    "#25. Write a Python script to determine the type of a character (uppercase, lowercase, or special) using elif statements"
   ]
  },
  {
   "cell_type": "code",
   "execution_count": 31,
   "id": "b6f68a14-8706-4f96-98b9-070e1438c955",
   "metadata": {},
   "outputs": [
    {
     "name": "stdin",
     "output_type": "stream",
     "text": [
      "Please Enter Your Own Character :  j\n"
     ]
    },
    {
     "name": "stdout",
     "output_type": "stream",
     "text": [
      "the given character is a lowercase character\n"
     ]
    }
   ],
   "source": [
    "\n",
    "ch = input(\"Please Enter Your Own Character : \")\n",
    "\n",
    "if(ch >= 'a' and ch <= 'z'): \n",
    "    print(\"the given character is a lowercase character\")\n",
    "elif (ch >= 'A' and ch <= 'Z'): \n",
    "    print(\"The Given Character is an uppercase character\") \n",
    "else:\n",
    "    print(\"The Given Character \", ch, \"is a Special Character\")"
   ]
  },
  {
   "cell_type": "code",
   "execution_count": 32,
   "id": "e8ab14a9-b0b6-4517-854b-768ff0d940c2",
   "metadata": {},
   "outputs": [],
   "source": [
    "#26.Implement a program to calculate the discounted price based on different purchase amounts using elif statements\n",
    "\n"
   ]
  },
  {
   "cell_type": "code",
   "execution_count": 1,
   "id": "a29e58f9-6a1a-49ed-b885-10f5e5cdaa24",
   "metadata": {},
   "outputs": [
    {
     "name": "stdin",
     "output_type": "stream",
     "text": [
      "Enter purchase amount  10000\n"
     ]
    },
    {
     "name": "stdout",
     "output_type": "stream",
     "text": [
      "Discount Amount = 500.00\n",
      "Net Bill Amount = 9500.00\n"
     ]
    }
   ],
   "source": [
    "p=int(input('Enter purchase amount '))\n",
    "\n",
    "if p<=5000:\n",
    "    dis=0\n",
    "elif p>5000 and p<=10000:\n",
    "    dis=(p-5000)*(10/100.0)\n",
    "elif p>10000 and p<=20000:\n",
    "    dis=(p-10000)*(20/100.0)\n",
    "elif p>20000 and p<=30000:\n",
    "    dis=(p-20000)*(30/100.0)\n",
    "else:\n",
    "    dis=(p-30000)*(40/100.0)\n",
    "\n",
    "print('Discount Amount = {:.2f}'.format(dis))\n",
    "print('Net Bill Amount = {:.2f}'.format(p-dis))"
   ]
  },
  {
   "cell_type": "code",
   "execution_count": null,
   "id": "2dc3f8e5-4b9d-40cd-a102-ee7ca4b098c1",
   "metadata": {},
   "outputs": [],
   "source": [
    "#27.Develop a program to calculate the electricity bill based on different consumption slabs using elif\n"
   ]
  },
  {
   "cell_type": "code",
   "execution_count": 2,
   "id": "25ab4d01-2d5c-479d-b9a1-20371dfc017c",
   "metadata": {},
   "outputs": [
    {
     "name": "stdin",
     "output_type": "stream",
     "text": [
      "please enter the number of units you consumed in a month 1000\n"
     ]
    },
    {
     "name": "stdout",
     "output_type": "stream",
     "text": [
      "\n",
      "Electicity bill=1500.00\n"
     ]
    }
   ],
   "source": [
    "units=int(input(\"please enter the number of units you consumed in a month\"))\n",
    "if(units<=100):\n",
    "    payAmount=units*1.5\n",
    "    fixedcharge=25.00\n",
    "elif(units<=200):\n",
    "    payAmount=(100*1.5)+(units-100)*2.5\n",
    "    fixedcharge=50.00\n",
    "elif(units<=300):\n",
    "    payAmount=(100*1.5)+(200-100)*2.5+(units-200)*4\n",
    "    fixedcharge=75.00\n",
    "elif(units<=350):\n",
    "    payAmount=(100*1.5)+(200-100)*2.5+(300-200)*4+(units-300)*5\n",
    "    fixedcharge=100.00\n",
    "else:\n",
    "    payAmount=0\n",
    "    fixedcharge=1500.00\n",
    "Total=payAmount+fixedcharge;\n",
    "print(\"\\nElecticity bill=%.2f\" %Total)"
   ]
  },
  {
   "cell_type": "code",
   "execution_count": null,
   "id": "20774ac7-c928-48e1-9133-79d9dfc9502e",
   "metadata": {},
   "outputs": [],
   "source": [
    "#28.Create a program to determine the type of quadrilateral based on its angles and sides using elif statements\n",
    "  "
   ]
  },
  {
   "cell_type": "code",
   "execution_count": null,
   "id": "c7277280-35e5-4f93-ba58-7d6ab4997096",
   "metadata": {},
   "outputs": [],
   "source": [
    "s=4\n",
    "a=90\n",
    "\n",
    "\n"
   ]
  },
  {
   "cell_type": "code",
   "execution_count": null,
   "id": "40237187-12a0-4db9-b806-1b597d38b92d",
   "metadata": {},
   "outputs": [],
   "source": [
    "#29. Write a Python script to determine the season based on a user-provided month using elif statements.\n"
   ]
  },
  {
   "cell_type": "code",
   "execution_count": 16,
   "id": "e96fd55f-6cb3-4d92-8a2b-e79fc376fd04",
   "metadata": {},
   "outputs": [
    {
     "ename": "SyntaxError",
     "evalue": "invalid syntax (555974316.py, line 2)",
     "output_type": "error",
     "traceback": [
      "\u001b[0;36m  Cell \u001b[0;32mIn[16], line 2\u001b[0;36m\u001b[0m\n\u001b[0;31m    if(( m==January) or if ((m== February) or if ((m== December)))):\u001b[0m\n\u001b[0m                        ^\u001b[0m\n\u001b[0;31mSyntaxError\u001b[0m\u001b[0;31m:\u001b[0m invalid syntax\n"
     ]
    }
   ],
   "source": [
    "m=input(\"enter the month\")\n",
    "if(( m==January) or if ((m== February) or if ((m== December)))):\n",
    "    print(\"winter season\")\n",
    "elif(( m==\"March\" ) or ((m==\"April\") or ((m==\"May\")))):\n",
    "    print(\"summer season\")\n",
    "elif((m==June) or ((m==July) or (m==August) or (m==September)):\n",
    "    print(\"monsoon season\")\n",
    "else:\n",
    "    print(\"autumn season\")\n",
    "\n",
    "          "
   ]
  },
  {
   "cell_type": "code",
   "execution_count": null,
   "id": "4b5a021a-4ee0-4961-a6f9-60ffc9d18cb9",
   "metadata": {},
   "outputs": [],
   "source": [
    "#30. Implement a program to determine the type of a year (leap or common) and month (30 or 31 days) using elif statements\n"
   ]
  },
  {
   "cell_type": "code",
   "execution_count": 14,
   "id": "888944b2-0fec-4209-a316-74b829e46bc4",
   "metadata": {},
   "outputs": [
    {
     "name": "stdout",
     "output_type": "stream",
     "text": [
      "Number of days is 29\n",
      "leap year\n"
     ]
    }
   ],
   "source": [
    "month =2\n",
    "year=2012\n",
    "    \n",
    "if((month==2) and ((year%4==0)  or ((year%100==0) and (year%400==0)))) :\n",
    "    print(\"Number of days is 29\")\n",
    "    print(\"leap year\")\n",
    "\n",
    "elif(month==2) :\n",
    "     print(\"Number of days is 28\")\n",
    "     print(\"normal year\") \n",
    "\n",
    "elif(month==1 or month==3 or month==5 or month==7 or month==8 or month==10 or month==12) :\n",
    "    print(\"Number of days is 31\");\n",
    "\n",
    "else:\n",
    "    print(\"Number of days is 30\");\n"
   ]
  },
  {
   "cell_type": "code",
   "execution_count": null,
   "id": "aacd3e6f-a13b-4f2f-8402-51d04c110cf0",
   "metadata": {},
   "outputs": [],
   "source": [
    "#Basic If-Else Statements:\n",
    "1. Write a Python program to check if a given number is positive or negative.\n",
    "2. Create a program that determines if a person is eligible to vote based on their age.\n",
    "3. Develop a program to find the maximum of two numbers using if-else statements.\n",
    "4. Write a Python script to classify a given year as a leap year or not.\n",
    "5. Create a program that checks whether a character is a vowel or a consonant.\n",
    "6. Implement a program to determine whether a given number is even or odd.\n",
    "7. Write a Python function to calculate the absolute value of a number without using the `abs()` function.\n",
    "8. Develop a program that determines the largest of three given numbers using if-else statements.\n",
    "9. Create a program that checks if a given string is a palindrome.\n",
    "10. Write a Python program to calculate the grade based on a student's score."
   ]
  },
  {
   "cell_type": "code",
   "execution_count": null,
   "id": "acba2ee6-1c44-47d4-8e38-960d3a96fdd1",
   "metadata": {},
   "outputs": [],
   "source": [
    "#basic level questions are done earlier"
   ]
  },
  {
   "cell_type": "code",
   "execution_count": null,
   "id": "361891fb-17e8-4d85-bc4e-2ffaead92260",
   "metadata": {},
   "outputs": [],
   "source": [
    "#INTERMEDIATE LEVEL"
   ]
  },
  {
   "cell_type": "code",
   "execution_count": null,
   "id": "2db8f9c0-babe-4c8e-b697-31bbbbec5bfd",
   "metadata": {},
   "outputs": [],
   "source": [
    "#11. Write a program that calculates the roots of a quadratic equation ."
   ]
  },
  {
   "cell_type": "code",
   "execution_count": 18,
   "id": "fa09fee3-6262-4df7-9d94-7ab76a54574a",
   "metadata": {},
   "outputs": [
    {
     "name": "stdin",
     "output_type": "stream",
     "text": [
      "enter the value of a 20\n",
      "enter the value of b 30\n",
      "enter the value of c 40\n"
     ]
    }
   ],
   "source": [
    "a=int(input(\"enter the value of a\"))\n",
    "b=int(input(\"enter the value of b\"))\n",
    "c=int(input(\"enter the value of c\"))\n",
    "D=(b*b-4*a*c)\n",
    "\n",
    "\n",
    "\n",
    "\n",
    "\n"
   ]
  },
  {
   "cell_type": "code",
   "execution_count": 19,
   "id": "7277bac8-4c65-4157-ad16-f30f0ba3b7d7",
   "metadata": {},
   "outputs": [],
   "source": [
    "e=D**0.5\n",
    "root1=(-b+e)/2*a\n",
    "\n",
    "root2=(-b-e)/2*a\n"
   ]
  },
  {
   "cell_type": "code",
   "execution_count": null,
   "id": "30e8d844-a0b6-4c80-bad6-76350dda690a",
   "metadata": {},
   "outputs": [],
   "source": [
    "#12. Create a program that determines the day of the week based on the day number (1-7)."
   ]
  },
  {
   "cell_type": "code",
   "execution_count": 20,
   "id": "77646265-ae3b-46ea-ab88-b0597925f2b9",
   "metadata": {},
   "outputs": [
    {
     "name": "stdin",
     "output_type": "stream",
     "text": [
      "enter any number 6\n"
     ]
    },
    {
     "name": "stdout",
     "output_type": "stream",
     "text": [
      "the DOW is Saturday\n"
     ]
    }
   ],
   "source": [
    "x=int(input(\"enter any number\"))\n",
    "\n",
    "if x==1:\n",
    "    print(\"the day of week is Monday\")\n",
    "else:\n",
    "    if x==2:\n",
    "         print(\"the DOW is Tuesday\")\n",
    "    if x==3:\n",
    "         print(\"the DOW is Wednesday\")  \n",
    "    if x==4:\n",
    "         print(\"the DOW is Thursday\")\n",
    "    if x==5:\n",
    "         print(\"the DOW is Friday\")\n",
    "    if x==6:\n",
    "         print(\"the DOW is Saturday\")\n",
    "    if x==7:\n",
    "         print(\"the DOW is Sunday\")\n",
    "             \n",
    "        \n",
    "        \n",
    "        \n",
    "        \n",
    "        \n",
    "        "
   ]
  },
  {
   "cell_type": "code",
   "execution_count": null,
   "id": "d6ebc328-e961-4fbe-8a75-c012872af96a",
   "metadata": {},
   "outputs": [],
   "source": [
    "#13.Develop a program that calculates the factorial of a given number using recursion."
   ]
  },
  {
   "cell_type": "code",
   "execution_count": 21,
   "id": "ed1228af-3f2d-42ca-bb37-d5e18b905285",
   "metadata": {},
   "outputs": [
    {
     "name": "stdout",
     "output_type": "stream",
     "text": [
      "The factorial of 7 is 5040\n"
     ]
    }
   ],
   "source": [
    "def recur_factorial(n):\n",
    "   if n == 1:\n",
    "       return n\n",
    "   else:\n",
    "       return n*recur_factorial(n-1)\n",
    "\n",
    "num = 7\n",
    "\n",
    "# check if the number is negative\n",
    "if num < 0:\n",
    "   print(\"Sorry, factorial does not exist for negative numbers\")\n",
    "elif num == 0:\n",
    "   print(\"The factorial of 0 is 1\")\n",
    "else:\n",
    "   print(\"The factorial of\", num, \"is\", recur_factorial(num))"
   ]
  },
  {
   "cell_type": "code",
   "execution_count": null,
   "id": "6ec52172-f078-4107-97ad-394e2d7882e1",
   "metadata": {},
   "outputs": [],
   "source": [
    "#14. Write a program to find the largest among three numbers without using the `max()` function.\n"
   ]
  },
  {
   "cell_type": "code",
   "execution_count": 22,
   "id": "27e5b98c-5274-47df-8c42-4e71b78431cc",
   "metadata": {},
   "outputs": [
    {
     "name": "stdout",
     "output_type": "stream",
     "text": [
      "The largest number among 10 , 25 and 15 is 25\n"
     ]
    }
   ],
   "source": [
    "a = 10\n",
    "b = 25\n",
    "c = 15\n",
    "largest = max(a, b, c)\n",
    "print(\"The largest number among\", a, \",\", b, \"and\", c, \"is\", largest)"
   ]
  },
  {
   "cell_type": "code",
   "execution_count": 23,
   "id": "f1af1c55-0bd9-4a21-92bb-7a4c41fa39a1",
   "metadata": {},
   "outputs": [],
   "source": [
    "#15. Create a program that simulates a basic ATM transaction menu.\n"
   ]
  },
  {
   "cell_type": "code",
   "execution_count": 27,
   "id": "68891e02-674b-4530-985f-d944e518a618",
   "metadata": {},
   "outputs": [
    {
     "name": "stdin",
     "output_type": "stream",
     "text": [
      "Please enter your four digit pin:  1234\n"
     ]
    },
    {
     "name": "stdout",
     "output_type": "stream",
     "text": [
      "what do y7ou want to do\n",
      " Enter 1 to Widthdraw Cash \n",
      " Enter 2 for Balance Enquiry \n",
      " Enter 3 to Quit\n"
     ]
    },
    {
     "name": "stdin",
     "output_type": "stream",
     "text": [
      "Enter the number corresponding to the activity you want to do:  1\n",
      "Enter the amount of money you want to widthdraw:  5000\n"
     ]
    },
    {
     "name": "stdout",
     "output_type": "stream",
     "text": [
      "You don't have sufficient balance to make this widthdrawal\n"
     ]
    },
    {
     "name": "stdin",
     "output_type": "stream",
     "text": [
      "Enter the amount of money you want to widthdraw:  500\n"
     ]
    },
    {
     "name": "stdout",
     "output_type": "stream",
     "text": [
      "500 Dollars successfully widthdrawn your remaining balance is 500 Dollars\n",
      "\n"
     ]
    }
   ],
   "source": [
    "pin = int(input('Please enter your four digit pin: '))\n",
    "\n",
    "def widthdraw_cash():\n",
    "    while True:\n",
    "        amount = int(input(\"Enter the amount of money you want to widthdraw: \"))\n",
    "        if amount > user['balance']:\n",
    "            print(\"You don't have sufficient balance to make this widthdrawal\")\n",
    "        else:\n",
    "            user['balance'] = user['balance'] - amount\n",
    "            print(f\"{amount} Dollars successfully widthdrawn your remaining balance is {user['balance']} Dollars\")\n",
    "            print('')\n",
    "            return False\n",
    "\n",
    "def balance_enquiry():\n",
    "    print(f\"Total balance {user['balance']} Dollars\")\n",
    "    print('')\n",
    "\n",
    "user = {\n",
    "    'pin': 1234,\n",
    "    'balance':1000\n",
    "}\n",
    "if pin == user['pin']:\n",
    "        print(\"what do y7ou want to do\")\n",
    "        print(\" Enter 1 to Widthdraw Cash \\n Enter 2 for Balance Enquiry \\n Enter 3 to Quit\")\n",
    "\n",
    "        query = int(input(\"Enter the number corresponding to the activity you want to do: \"))\n",
    "\n",
    "        if query == 1:\n",
    "            widthdraw_cash()\n",
    "        elif query == 2:\n",
    "            balance_enquiry()\n",
    "        elif query == 3:\n",
    "            is_quit = True\n",
    "\n",
    "        else:\n",
    "            print(\"Please enter a correct value shown\")\n",
    "else:\n",
    "    print(\"Entered wrong pin\")"
   ]
  },
  {
   "cell_type": "code",
   "execution_count": null,
   "id": "398a63ec-43ab-40cf-8770-4a4ac51eaef8",
   "metadata": {},
   "outputs": [],
   "source": [
    "#16.Build a program that checks if a given string is a palindrome or not."
   ]
  },
  {
   "cell_type": "code",
   "execution_count": 12,
   "id": "5f9c8a7c-bffc-4a75-82e7-ec8507f0730a",
   "metadata": {},
   "outputs": [
    {
     "name": "stdout",
     "output_type": "stream",
     "text": [
      "string is not a palindrome\n"
     ]
    }
   ],
   "source": [
    "s1=\"greetings\"\n",
    "s2=s1[::-1]\n",
    "if(s1==s2):\n",
    "    print(\"string is a palindrome\")\n",
    "else:\n",
    "    print(\"string is not a palindrome\")"
   ]
  },
  {
   "cell_type": "code",
   "execution_count": null,
   "id": "d9ce73e7-9a4f-455d-a750-d1d348fbe0d8",
   "metadata": {},
   "outputs": [],
   "source": [
    "#17.Write a program that calculates the average of a list of numbers, excluding the smallest and largest values."
   ]
  },
  {
   "cell_type": "code",
   "execution_count": 12,
   "id": "037aa60d-7b8d-4727-96aa-d08d562b3f2d",
   "metadata": {},
   "outputs": [
    {
     "name": "stdout",
     "output_type": "stream",
     "text": [
      "Average of the list = 35.83\n"
     ]
    }
   ],
   "source": [
    "def Average(lst):\n",
    "    s=sum(lst)-min_number-max_number\n",
    "    return s / (len(lst)-2)\n",
    "\n",
    "lst = [15, 9, 55, 41, 35, 20, 62, 49] \n",
    "min_number=min(lst)\n",
    "max_number=max(lst)\n",
    "\n",
    "average = Average(lst) \n",
    " \n",
    "# Printing average of the list \n",
    "print(\"Average of the list =\", round(average, 2)) "
   ]
  },
  {
   "cell_type": "code",
   "execution_count": null,
   "id": "b611a77d-6d94-4202-8568-a64041634ed2",
   "metadata": {},
   "outputs": [],
   "source": [
    "# 18. Develop a program that converts a given temperature from Celsius to Fahrenheit."
   ]
  },
  {
   "cell_type": "code",
   "execution_count": 13,
   "id": "e9990423-e7d6-47f4-afe1-4929950e59ba",
   "metadata": {},
   "outputs": [
    {
     "name": "stdin",
     "output_type": "stream",
     "text": [
      "Enter the Temperature in Celsius :\n",
      " 100\n"
     ]
    },
    {
     "name": "stdout",
     "output_type": "stream",
     "text": [
      "Temperature in Fahrenheit : 212.0\n"
     ]
    }
   ],
   "source": [
    "celsius = int(input(\"Enter the Temperature in Celsius :\\n\"))\n",
    "fahrenheit = (1.8 * celsius) + 32\n",
    "print(\"Temperature in Fahrenheit :\", fahrenheit)"
   ]
  },
  {
   "cell_type": "code",
   "execution_count": null,
   "id": "2f02ff84-df59-4d15-90ed-b013b2086da3",
   "metadata": {},
   "outputs": [],
   "source": [
    "#19. Create a program that simulates a basic calculator for addition, subtraction, multiplication, and division."
   ]
  },
  {
   "cell_type": "code",
   "execution_count": 15,
   "id": "cad1e523-6eea-4c24-8296-79f6a422651a",
   "metadata": {},
   "outputs": [],
   "source": [
    "def addition(n1,n2):\n",
    "    return n1+n2\n",
    "def subtraction(n1,n2):\n",
    "    return n1-n2\n",
    "def multiplication(n1,n2):\n",
    "    return n1*n2\n",
    "def division(n1,n2):\n",
    "    return n1/n2\n",
    "n1=90\n",
    "n2=65\n"
   ]
  },
  {
   "cell_type": "code",
   "execution_count": 16,
   "id": "50f77b4e-edf8-42fa-8d87-bd3e16efcda9",
   "metadata": {},
   "outputs": [
    {
     "name": "stdin",
     "output_type": "stream",
     "text": [
      "Enter choice of operation 1/2/3/4:  3\n"
     ]
    },
    {
     "name": "stdout",
     "output_type": "stream",
     "text": [
      "90 * 65 = 5850\n"
     ]
    }
   ],
   "source": [
    "operation = int(input(\"Enter choice of operation 1/2/3/4: \"))\n",
    "if operation == 1:\n",
    "    print (n1, \"+\", n2, \"=\", addition(n1, n2))\n",
    "\n",
    "elif operation == 2:\n",
    "    print (n1, \"-\", n2, \"=\", subtraction(n1, n2)) \n",
    "\n",
    "elif operation == 3:\n",
    "    print (n1, \"*\", n2, \"=\", multiplication(n1, n2)) \n",
    "    \n",
    "elif operation == 4:\n",
    "    print (n1, \"/\", n2, \"=\", division(n1, n2)) \n",
    "    \n",
    "else:\n",
    "    print(\"Invalid Input\")"
   ]
  },
  {
   "cell_type": "code",
   "execution_count": null,
   "id": "da625085-ebb0-4233-a83c-dd6c12942179",
   "metadata": {},
   "outputs": [],
   "source": [
    "#20. "
   ]
  },
  {
   "cell_type": "code",
   "execution_count": 17,
   "id": "e2554229-9af9-4f3c-a7ad-d683d0ad3bba",
   "metadata": {},
   "outputs": [],
   "source": [
    "import math\n",
    "import numpy as np\n",
    "\n",
    "# Main Function takes in the coefficient of the Cubic Polynomial\n",
    "# as parameters and it returns the roots in form of numpy array.\n",
    "# Polynomial Structure -> ax^3 + bx^2 + cx + d = 0\n",
    "\n",
    "def solve(a, b, c, d):\n",
    "\n",
    "    if (a == 0 and b == 0):                     # Case for handling Liner Equation\n",
    "        return np.array([(-d * 1.0) / c])                 # Returning linear root as numpy array.\n",
    "\n",
    "    elif (a == 0):                              # Case for handling Quadratic Equations\n",
    "\n",
    "        D = c * c - 4.0 * b * d                       # Helper Temporary Variable\n",
    "        if D >= 0:\n",
    "            D = math.sqrt(D)\n",
    "            x1 = (-c + D) / (2.0 * b)\n",
    "            x2 = (-c - D) / (2.0 * b)\n",
    "        else:\n",
    "            D = math.sqrt(-D)\n",
    "            x1 = (-c + D * 1j) / (2.0 * b)\n",
    "            x2 = (-c - D * 1j) / (2.0 * b)\n",
    "            \n",
    "        return np.array([x1, x2])               # Returning Quadratic Roots as numpy array.\n",
    "\n",
    "    f = findF(a, b, c)                          # Helper Temporary Variable\n",
    "    g = findG(a, b, c, d)                       # Helper Temporary Variable\n",
    "    h = findH(g, f)                             # Helper Temporary Variable\n",
    "\n",
    "    if f == 0 and g == 0 and h == 0:            # All 3 Roots are Real and Equal\n",
    "        if (d / a) >= 0:\n",
    "            x = (d / (1.0 * a)) ** (1 / 3.0) * -1\n",
    "        else:\n",
    "            x = (-d / (1.0 * a)) ** (1 / 3.0)\n",
    "        return np.array([x, x, x])              # Returning Equal Roots as numpy array.\n",
    "\n",
    "    elif h <= 0:                                # All 3 roots are Real\n",
    "\n",
    "        i = math.sqrt(((g ** 2.0) / 4.0) - h)   # Helper Temporary Variable\n",
    "        j = i ** (1 / 3.0)                      # Helper Temporary Variable\n",
    "        k = math.acos(-(g / (2 * i)))           # Helper Temporary Variable\n",
    "        L = j * -1                              # Helper Temporary Variable\n",
    "        M = math.cos(k / 3.0)                   # Helper Temporary Variable\n",
    "        N = math.sqrt(3) * math.sin(k / 3.0)    # Helper Temporary Variable\n",
    "        P = (b / (3.0 * a)) * -1                # Helper Temporary Variable\n",
    "\n",
    "        x1 = 2 * j * math.cos(k / 3.0) - (b / (3.0 * a))\n",
    "        x2 = L * (M + N) + P\n",
    "        x3 = L * (M - N) + P\n",
    "\n",
    "        return np.array([x1, x2, x3])           # Returning Real Roots as numpy array.\n",
    "\n",
    "    elif h > 0:                                 # One Real Root and two Complex Roots\n",
    "        R = -(g / 2.0) + math.sqrt(h)           # Helper Temporary Variable\n",
    "        if R >= 0:\n",
    "            S = R ** (1 / 3.0)                  # Helper Temporary Variable\n",
    "        else:\n",
    "            S = (-R) ** (1 / 3.0) * -1          # Helper Temporary Variable\n",
    "        T = -(g / 2.0) - math.sqrt(h)\n",
    "        if T >= 0:\n",
    "            U = (T ** (1 / 3.0))                # Helper Temporary Variable\n",
    "        else:\n",
    "            U = ((-T) ** (1 / 3.0)) * -1        # Helper Temporary Variable\n",
    "\n",
    "        x1 = (S + U) - (b / (3.0 * a))\n",
    "        x2 = -(S + U) / 2 - (b / (3.0 * a)) + (S - U) * math.sqrt(3) * 0.5j\n",
    "        x3 = -(S + U) / 2 - (b / (3.0 * a)) - (S - U) * math.sqrt(3) * 0.5j\n",
    "\n",
    "        return np.array([x1, x2, x3])           # Returning One Real Root and two Complex Roots as numpy array.\n",
    "\n",
    "\n",
    "# Helper function to return float value of f.\n",
    "def findF(a, b, c):\n",
    "    return ((3.0 * c / a) - ((b ** 2.0) / (a ** 2.0))) / 3.0\n",
    "\n",
    "\n",
    "# Helper function to return float value of g.\n",
    "def findG(a, b, c, d):\n",
    "    return (((2.0 * (b ** 3.0)) / (a ** 3.0)) - ((9.0 * b * c) / (a **2.0)) + (27.0 * d / a)) /27.0\n",
    "\n",
    "\n",
    "# Helper function to return float value of h.\n",
    "def findH(g, f):\n",
    "    return ((g ** 2.0) / 4.0 + (f ** 3.0) / 27.0)\n"
   ]
  },
  {
   "cell_type": "code",
   "execution_count": null,
   "id": "10536d7f-17fa-4304-bdeb-8297dedba6e7",
   "metadata": {},
   "outputs": [],
   "source": [
    "#ADVANCED LEVEL"
   ]
  },
  {
   "cell_type": "code",
   "execution_count": null,
   "id": "956b1018-14ee-42ef-b8d3-7bcd50e84ed9",
   "metadata": {},
   "outputs": [],
   "source": [
    "#21. Create a program that calculates the income tax based on the user's income and tax brackets."
   ]
  },
  {
   "cell_type": "code",
   "execution_count": 7,
   "id": "7886ddbd-1df0-471d-9ef3-5a203ff5b631",
   "metadata": {},
   "outputs": [],
   "source": [
    "def calculate(amount, percent): \n",
    "    return (amount * percent) / 100\n",
    "  \n",
    "def calculate_income_tax(total_income:  \n",
    "                         float) -> float: \n",
    "  \n",
    "    if total_income <= 250000: \n",
    "        return 0\n",
    "    elif total_income <= 500000: \n",
    "        return calculate(total_income - \n",
    "                         250000, 5) \n",
    "    elif total_income <= 750000: \n",
    "        return calculate(total_income - \n",
    "                         500000, 10) + 12500\n",
    "    elif total_income <= 1000000: \n",
    "        return calculate(total_income - \n",
    "                         750000, 15) + 37500\n",
    "    elif total_income <= 1250000: \n",
    "        return calculate(total_income - \n",
    "                         1000000, 20) + 75000\n",
    "    elif total_income <= 1500000: \n",
    "        return calculate(total_income - \n",
    "                         1250000, 25) + 125000\n",
    "    else: \n",
    "        return calculate(total_income - \n",
    "                         1500000, 30) + 187500\n",
    "     \n",
    "        total_income = float(input(\"What's your \\ annual income?\\n>>> \")) \n",
    "        tax = calculate_income_tax(total_income) \n",
    "        print(f\"Total tax applicable at \\ ₹{total_income} is ₹{tax}\") \n",
    "  \n"
   ]
  },
  {
   "cell_type": "code",
   "execution_count": 11,
   "id": "700fdda5-f982-400c-b66c-7aa40e27bbb8",
   "metadata": {},
   "outputs": [
    {
     "name": "stdin",
     "output_type": "stream",
     "text": [
      "What's your \u0007nnual income?\n",
      ">>>  125000\n"
     ]
    },
    {
     "name": "stdout",
     "output_type": "stream",
     "text": [
      "Total tax applicable at \\₹125000.0 is ₹0\n"
     ]
    }
   ],
   "source": [
    "total_income = float(input(\"What's your \\annual income?\\n>>> \")) \n",
    "tax = calculate_income_tax(total_income) \n",
    "print(f\"Total tax applicable at \\₹{total_income} is ₹{tax}\") "
   ]
  },
  {
   "cell_type": "code",
   "execution_count": null,
   "id": "30a977c3-d38a-46e6-a099-f0bf515908d9",
   "metadata": {},
   "outputs": [],
   "source": [
    "# 22. Write a program that simulates a rock-paper-scissors game against the computer"
   ]
  },
  {
   "cell_type": "code",
   "execution_count": 12,
   "id": "a7204a6f-aece-4aa5-858b-52c0531bde93",
   "metadata": {},
   "outputs": [
    {
     "name": "stdin",
     "output_type": "stream",
     "text": [
      "Enter a choice (rock, paper, scissors):  rock\n"
     ]
    },
    {
     "name": "stdout",
     "output_type": "stream",
     "text": [
      "\n",
      "You chose rock, computer chose scissors.\n",
      "\n",
      "Rock smashes scissors! You win!\n"
     ]
    }
   ],
   "source": [
    "import random\n",
    "\n",
    "user_action = input(\"Enter a choice (rock, paper, scissors): \")\n",
    "possible_actions = [\"rock\", \"paper\", \"scissors\"]\n",
    "computer_action = random.choice(possible_actions)\n",
    "print(f\"\\nYou chose {user_action}, computer chose {computer_action}.\\n\")\n",
    "\n",
    "if user_action == computer_action:\n",
    "    print(f\"Both players selected {user_action}. It's a tie!\")\n",
    "elif user_action == \"rock\":\n",
    "    if computer_action == \"scissors\":\n",
    "        print(\"Rock smashes scissors! You win!\")\n",
    "    else:\n",
    "        print(\"Paper covers rock! You lose.\")\n",
    "elif user_action == \"paper\":\n",
    "    if computer_action == \"rock\":\n",
    "        print(\"Paper covers rock! You win!\")\n",
    "    else:\n",
    "        print(\"Scissors cuts paper! You lose.\")\n",
    "elif user_action == \"scissors\":\n",
    "    if computer_action == \"paper\":\n",
    "        print(\"Scissors cuts paper! You win!\")\n",
    "    else:\n",
    "        print(\"Rock smashes scissors! You lose.\")"
   ]
  },
  {
   "cell_type": "code",
   "execution_count": null,
   "id": "2fc1311b-26cf-4038-9d1c-243e27f8325f",
   "metadata": {},
   "outputs": [],
   "source": [
    "#23.  Develop a program that generates a random password based on user preferences (length, complexity)."
   ]
  },
  {
   "cell_type": "markdown",
   "id": "9cb349c0-a108-4b83-b1bd-6d3e10b983a5",
   "metadata": {
    "tags": []
   },
   "source": [
    "## import string\n",
    "import random\n",
    " \n",
    "# Getting password length\n",
    "length = int(input(\"Enter password length: \"))\n",
    " \n",
    "print('''Choose character set for password from these : \n",
    "         1. Digits\n",
    "         2. Letters\n",
    "         3. Special characters\n",
    "         4. Exit''')\n",
    " \n",
    "characterList = \"\"\n",
    " \n",
    "# Getting character set for password\n",
    "while(True):\n",
    "    choice = int(input(\"Pick a number \"))\n",
    "    if(choice == 1):\n",
    "         \n",
    "        # Adding letters to possible characters\n",
    "        characterList += string.ascii_letters\n",
    "    elif(choice == 2):\n",
    "         \n",
    "        # Adding digits to possible characters\n",
    "        characterList += string.digits\n",
    "    elif(choice == 3):\n",
    "         \n",
    "        # Adding special characters to possible\n",
    "        # characters\n",
    "        characterList += string.punctuation\n",
    "    elif(choice == 4):\n",
    "        break\n",
    "    else:\n",
    "        print(\"Please pick a valid option!\")\n",
    " \n",
    "password = []\n",
    " \n",
    "for i in range(length):\n",
    "   \n",
    "    # Picking a random character from our \n",
    "    # character list\n",
    "    randomchar = random.choice(characterList)\n",
    "     \n",
    "    # appending a random character to password\n",
    "    password.append(randomchar)\n",
    " \n",
    "# printing password as a string\n",
    "print(\"The random password is \" + \"\".join(password))\n"
   ]
  },
  {
   "cell_type": "code",
   "execution_count": null,
   "id": "0936bc0b-6c66-4791-9c64-774f805c39f4",
   "metadata": {},
   "outputs": [],
   "source": [
    "24. Create a program that implements a simple text-based adventure game with branching scenarios."
   ]
  },
  {
   "cell_type": "code",
   "execution_count": null,
   "id": "4af311e3-c2e1-4f70-95ea-e6850caffac7",
   "metadata": {},
   "outputs": [],
   "source": [
    "def introScene():\n",
    "  directions = [\"left\", \"right\", \"forward\"]\n",
    "  print(\"You are at a crossroads, and you can choose to go down any of the four hallways. Where would you like to go?\")\n",
    "  userInput = \"\"\n",
    "  while userInput not in directions:\n",
    "    print(\"Options: left/right/backward/forward\")\n",
    "    userInput = input()\n",
    "    if userInput == \"left\":\n",
    "      showShadowFigure()\n",
    "    elif userInput == \"right\":\n",
    "      showSkeletons()\n",
    "    elif userInput == \"forward\":\n",
    "      hauntedRoom()\n",
    "    elif userInput == \"backward\":\n",
    "      print(\"You find that this door opens into a wall.\")\n",
    "    else: \n",
    "      print(\"Please enter a valid option for the adventure game.\")\n",
    "    def showShadowFigure():\n",
    "  directions = [\"right\", \"backward\"]\n",
    "  print(\"You see a dark shadowy figure appear in the distance. You are creeped out. Where would you like to go?\")\n",
    "  userInput = \"\"\n",
    "  while userInput not in directions:\n",
    "    print(\"Options: right/left/backward\")\n",
    "    userInput = input()\n",
    "    if userInput == \"right\":\n",
    "      cameraScene()\n",
    "    elif userInput == \"left\":\n",
    "      print(\"You find that this door opens into a wall.\")\n",
    "    elif userInput == \"backward\":\n",
    "      introScene()\n",
    "    else:\n",
    "      print(\"Please enter a valid option for the adventure game.\")\n",
    "    def cameraScene():\n",
    "  directions = [\"forward\", \"backward\"]\n",
    "  print(\"You see a camera that has been dropped on the ground. Someone has been here recently. Where would you like to go?\")\n",
    "  userInput = \"\"\n",
    "  while userInput not in directions:\n",
    "    print(\"Options: forward/backward\")\n",
    "    userInput = input()\n",
    "    if userInput == \"forward\":\n",
    "      print(\"You made it! You've found an exit.\")\n",
    "      quit()\n",
    "    elif userInput == \"backward\":\n",
    "      showShadowFigure()\n",
    "    else:\n",
    "      print(\"Please enter a valid option for the adventure game.\")\n",
    "def hauntedRoom():\n",
    "  directions = [\"right\", \"left\", \"backward\"]\n",
    "  print(\"You hear strange voices. You think you have awoken some of the dead. Where would you like to go?\")\n",
    "  userInput = \"\"\n",
    "  while userInput not in directions:\n",
    "    print(\"Options: right/left/backward\")\n",
    "    userInput = input()\n",
    "    if userInput == \"right\":\n",
    "      print(\"Multiple goul-like creatures start emerging as you enter the room. You are killed.\")\n",
    "      quit()\n",
    "    elif userInput == \"left\":\n",
    "      print(\"You made it! You've found an exit.\")\n",
    "      quit()\n",
    "    elif userInput == \"backward\":\n",
    "      introScene()\n",
    "    else:\n",
    "      print(\"Please enter a valid option for the adventure game.\")\n",
    "    def showSkeletons():\n",
    "  directions = [\"backward\", \"forward\"]\n",
    "  global weapon\n",
    "  print(\"You see a wall of skeletons as you walk into the room. Someone is watching you. Where would you like to go?\")\n",
    "  userInput = \"\"\n",
    "  while userInput not in directions:\n",
    "    print(\"Options: left/backward/forward\")\n",
    "    userInput = input()\n",
    "    if userInput == \"left\":\n",
    "      print(\"You find that this door opens into a wall. You open some of the drywall to discover a knife.\")\n",
    "      weapon = True\n",
    "    elif userInput == \"backward\":\n",
    "      introScene()\n",
    "    elif userInput == \"forward\":\n",
    "      strangeCreature()\n",
    "    else:\n",
    "      print(\"Please enter a valid option for the adventure game.\")\n",
    "    def strangeCreature():\n",
    "  actions = [\"fight\", \"flee\"]\n",
    "  global weapon\n",
    "  print(\"A strange goul-like creature has appeared. You can either run or fight it. What would you like to do?\")\n",
    "  userInput = \"\"\n",
    "  while userInput not in actions:\n",
    "    print(\"Options: flee/fight\")\n",
    "    userInput = input()\n",
    "    if userInput == \"fight\":\n",
    "      if weapon:\n",
    "        print(\"You kill the goul with the knife you found earlier. After moving forward, you find one of the exits. Congrats!\")\n",
    "      else:\n",
    "        print(\"The goul-like creature has killed you.\")\n",
    "      quit()\n",
    "    elif userInput == \"flee\":\n",
    "      showSkeletons()\n",
    "    else:\n",
    "      print(\"Please enter a valid option for the adventure game.\")\n",
    "    "
   ]
  },
  {
   "cell_type": "code",
   "execution_count": null,
   "id": "e3537b6a-3dd6-4d8a-bf35-4f090487a6c5",
   "metadata": {},
   "outputs": [],
   "source": [
    "#25. Build a program that solves a linear equation  for x, considering different case"
   ]
  },
  {
   "cell_type": "code",
   "execution_count": 1,
   "id": "759d9765-f62f-474b-9e8b-72c89573f81b",
   "metadata": {},
   "outputs": [
    {
     "name": "stdout",
     "output_type": "stream",
     "text": [
      "x = 4.500000\n"
     ]
    }
   ],
   "source": [
    "def solve(equation): \n",
    "    \n",
    "    # replacing all the x terms with j  \n",
    "    # the imaginary part \n",
    "    s1 = equation.replace('x', 'j') \n",
    "      \n",
    "    # shifting the equal sign to start  \n",
    "    # an opening bracket \n",
    "    s2 = s1.replace('=', '-(') \n",
    "      \n",
    "    # adding the closing bracket to form  \n",
    "    # a complete expression \n",
    "    s = s2+')'\n",
    "      \n",
    "    # mapping the literal j to the complex j \n",
    "    z = eval(s, {'j': 1j}) \n",
    "    real, imag = z.real, -z.imag \n",
    "      \n",
    "    # if the imaginary part is true return the \n",
    "    # answer \n",
    "    if imag: \n",
    "        return \"x = %f\" % (real/imag) \n",
    "    else: \n",
    "        if real: \n",
    "            return \"No solution\"\n",
    "        else: \n",
    "            return \"Infinite solutions\"\n",
    "  \n",
    "  \n",
    "equation = \"2+3x=5x-7\"\n",
    "print(solve(equation)) "
   ]
  },
  {
   "cell_type": "code",
   "execution_count": null,
   "id": "1052d9e1-ff7c-4d7d-83b0-bac5ee915a64",
   "metadata": {},
   "outputs": [],
   "source": [
    "#26. Write a program that simulates a basic quiz game with multiple-choice questions and scoring.\n",
    "\n"
   ]
  },
  {
   "cell_type": "code",
   "execution_count": 1,
   "id": "eae96479-3c76-4f66-9f71-4a5059952337",
   "metadata": {},
   "outputs": [
    {
     "name": "stdout",
     "output_type": "stream",
     "text": [
      "Wellcome to quiz game !!\n",
      "NOTE: if your spelling is incorrect then it is considered as wrong answer\n"
     ]
    },
    {
     "name": "stdin",
     "output_type": "stream",
     "text": [
      "Do you want to play ?  yes\n",
      "\n",
      "1. what does CPU stand for?  central processing unit\n"
     ]
    },
    {
     "name": "stdout",
     "output_type": "stream",
     "text": [
      "correct! you got 1 point\n"
     ]
    },
    {
     "name": "stdin",
     "output_type": "stream",
     "text": [
      "\n",
      "2. what does GPU stand for?  global positioning unit\n"
     ]
    },
    {
     "name": "stdout",
     "output_type": "stream",
     "text": [
      "Incorrect!\n",
      "current answer is --> graphics processing unit\n"
     ]
    },
    {
     "name": "stdin",
     "output_type": "stream",
     "text": [
      "\n",
      "3. what does RAM stand for?  random access memory\n"
     ]
    },
    {
     "name": "stdout",
     "output_type": "stream",
     "text": [
      "correct! you got 1 point\n"
     ]
    },
    {
     "name": "stdin",
     "output_type": "stream",
     "text": [
      "\n",
      "4. what does PSU stand for?  public system unit\n"
     ]
    },
    {
     "name": "stdout",
     "output_type": "stream",
     "text": [
      "Incorrect!\n",
      "current answer is --> power supply unit\n"
     ]
    },
    {
     "name": "stdin",
     "output_type": "stream",
     "text": [
      "\n",
      "5. what does ROM stand for?  read only memory\n"
     ]
    },
    {
     "name": "stdout",
     "output_type": "stream",
     "text": [
      "correct! you got 1 point\n",
      "\n",
      "number of question is 5\n",
      "your score is 3\n",
      "60.0% questions are correct.\n"
     ]
    }
   ],
   "source": [
    "print(\"Wellcome to quiz game !!\")\n",
    "print('NOTE: if your spelling is incorrect then it is considered as wrong answer')\n",
    "score = 0\n",
    "question_no = 0\n",
    "playing = input('Do you want to play ? ').lower()\n",
    "if playing == 'yes':\n",
    "    question_no += 1\n",
    "    ques = input(f'\\n{question_no}. what does CPU stand for? ').lower()\n",
    "    if ques == 'central processing unit':\n",
    "        score +=1\n",
    "        print('correct! you got 1 point')\n",
    "        \n",
    "    else:\n",
    "        print('Incorrect!')\n",
    "        print(f'current answer is --> central processing unit')\n",
    "\n",
    "# ------1\n",
    "    question_no += 1\n",
    "    ques = input(f'\\n{question_no}. what does GPU stand for? ').lower()\n",
    "    \n",
    "    if ques == 'graphics processing unit':\n",
    "        score +=1\n",
    "        print('correct! you got 1 point')\n",
    "        \n",
    "    else:\n",
    "        print('Incorrect!')\n",
    "        print(f'current answer is --> graphics processing unit')\n",
    "\n",
    "# -----2\n",
    "    question_no += 1\n",
    "    ques = input(f'\\n{question_no}. what does RAM stand for? ').lower()\n",
    "    \n",
    "    if ques == 'random access memory':\n",
    "        score +=1\n",
    "        print('correct! you got 1 point')\n",
    "        \n",
    "    else:\n",
    "        print('Incorrect!')\n",
    "        print(f'current answer is --> random access memory')\n",
    "\n",
    "# -----3\n",
    "    question_no += 1\n",
    "    ques = input(f'\\n{question_no}. what does PSU stand for? ').lower()\n",
    "    \n",
    "    if ques == 'power supply unit':\n",
    "        score +=1\n",
    "        print('correct! you got 1 point')\n",
    "        \n",
    "    else:\n",
    "        print('Incorrect!')\n",
    "        print(f'current answer is --> power supply unit')\n",
    "\n",
    "\n",
    "# -----4\n",
    "    question_no += 1\n",
    "    ques = input(f'\\n{question_no}. what does ROM stand for? ').lower()\n",
    "    \n",
    "    if ques == 'read only memory':\n",
    "        score +=1\n",
    "        print('correct! you got 1 point')\n",
    "        \n",
    "    else:\n",
    "        print('Incorrect!')\n",
    "        print(f'current answer is --> read only memory')\n",
    "\n",
    "\n",
    "# ------5 \n",
    "\n",
    "else:\n",
    "    print('thankyou you are out of a game.')\n",
    "    quit()\n",
    "\n",
    "print(f'\\nnumber of question is {question_no}')\n",
    "print(f'your score is {score}')\n",
    "try:\n",
    "    percentage = (score *100)/question_no\n",
    "except ZeroDivisionError:\n",
    "    print('0% quetions are correct')\n",
    "\n",
    "print(f'{percentage}% questions are correct.')"
   ]
  },
  {
   "cell_type": "code",
   "execution_count": null,
   "id": "5401ca19-6093-4716-b6b8-e3f8c198d91a",
   "metadata": {},
   "outputs": [],
   "source": [
    "#28.Create a program that sorts three numbers in ascending order using conditional statements.\n"
   ]
  },
  {
   "cell_type": "code",
   "execution_count": 28,
   "id": "23377afe-6b92-4864-aecb-327f1fa980af",
   "metadata": {},
   "outputs": [
    {
     "name": "stdin",
     "output_type": "stream",
     "text": [
      "enter first number 32\n",
      "enter second number 54\n",
      "enter third number 12\n"
     ]
    },
    {
     "name": "stdout",
     "output_type": "stream",
     "text": [
      "Sorted numbers in ascending order: 12 32 54\n"
     ]
    }
   ],
   "source": [
    "a=int(input(\"enter first number\"))\n",
    "b=int(input(\"enter second number\"))\n",
    "c=int(input(\"enter third number\"))\n",
    "if (a<b) and (a<c):\n",
    "    smallest=a\n",
    "    if (b<c):\n",
    "        middle=b\n",
    "        largest=c\n",
    "    else:\n",
    "        middle=c\n",
    "        largest=b\n",
    "elif (b<a)and(b<c):\n",
    "    smallest=b\n",
    "    if (a<c):\n",
    "        middle=a\n",
    "        largest=c\n",
    "    else:\n",
    "        middle=c\n",
    "        largest=a\n",
    "else:\n",
    "    smallest=c\n",
    "    if (b<a):\n",
    "        middle=b\n",
    "        largest=a  \n",
    "    else:\n",
    "        middle=a\n",
    "        largest=b\n",
    "print(\"Sorted numbers in ascending order:\", smallest, middle, largest)       \n",
    "    \n",
    "        \n",
    "      \n",
    "        \n"
   ]
  },
  {
   "cell_type": "code",
   "execution_count": null,
   "id": "63f132a9-21ba-4b45-9368-2ba2caa8824d",
   "metadata": {},
   "outputs": [],
   "source": [
    "#29.  Build a program that determines the roots of a quartic equation using numerical methods."
   ]
  },
  {
   "cell_type": "code",
   "execution_count": 29,
   "id": "839d7483-6143-4323-8d17-167ac8e444bc",
   "metadata": {},
   "outputs": [
    {
     "name": "stdout",
     "output_type": "stream",
     "text": [
      "The root x is approximately x= 2.000000000000006661\n",
      "The exact error is -6.66134e-15.\n"
     ]
    }
   ],
   "source": [
    "from scipy.optimize import fsolve\n",
    "\n",
    "def f(x):\n",
    "    return x ** 3 - 2 * x ** 2\n",
    "\n",
    "x = fsolve(f, 3)           # one root is at x=2.0\n",
    "\n",
    "print(\"The root x is approximately x=%21.19g\" % x)\n",
    "print(\"The exact error is %g.\" % (2 - x))"
   ]
  },
  {
   "cell_type": "code",
   "execution_count": null,
   "id": "da021fde-0aae-4edf-acd3-b6ea7d2ce660",
   "metadata": {},
   "outputs": [],
   "source": [
    "#30.  Write a program that calculates the BMI (Body Mass Index) and provides health recommendations based \n",
    "on the user's input."
   ]
  },
  {
   "cell_type": "code",
   "execution_count": 31,
   "id": "dd625d17-05d6-40f2-8d5c-f796c7af8df0",
   "metadata": {},
   "outputs": [
    {
     "name": "stdin",
     "output_type": "stream",
     "text": [
      " 80\n",
      " 6\n"
     ]
    },
    {
     "name": "stdout",
     "output_type": "stream",
     "text": [
      "Underweight\n"
     ]
    }
   ],
   "source": [
    "\n",
    "weight = int(input());\n",
    "height = float(input());\n",
    "x = weight/float(height*height);\n",
    "if x < 18.5:\n",
    "    print('Underweight')\n",
    "if x>=18.5 and x<25:\n",
    "    print(\"Normal\")\n",
    "if x >= 25 and x < 30:\n",
    "   print('Overweight')\n",
    "if x >= 30:\n",
    "   print('Obesity')"
   ]
  },
  {
   "cell_type": "code",
   "execution_count": null,
   "id": "35e1afab-25e3-4c9e-ad60-095a73188b5b",
   "metadata": {},
   "outputs": [],
   "source": [
    "#31.Create a program that validates a password based on complexity rules (length, characters, etc.)."
   ]
  },
  {
   "cell_type": "code",
   "execution_count": 8,
   "id": "664504ca-f8d2-4434-a16f-f9540592b14a",
   "metadata": {},
   "outputs": [
    {
     "name": "stdin",
     "output_type": "stream",
     "text": [
      "enter any password Ruchir23@\n"
     ]
    },
    {
     "name": "stdout",
     "output_type": "stream",
     "text": [
      "valid password\n"
     ]
    }
   ],
   "source": [
    "P=input(\"enter any password\")\n",
    "l, u, p, d=0, 0 , 0 ,0\n",
    "if (len(P)>=8):\n",
    "    for i in P:\n",
    "        if (i.islower()):\n",
    "            l+=1\n",
    "        if(i.isupper()):\n",
    "            u+=1\n",
    "        if(i.isdigit()):\n",
    "            d+=1\n",
    "        if(i=='@' or i=='$' or i=='_'):\n",
    "            p+=1\n",
    "if(l>=1 and u>=1 and d>=1 and p>=1 and l+p+u+d==len(P)):\n",
    "    print(\"valid password\")\n",
    "else:\n",
    "    print(\"invalid password\")\n",
    "    "
   ]
  },
  {
   "cell_type": "code",
   "execution_count": null,
   "id": "045f5473-d452-480f-9034-45c50885719a",
   "metadata": {},
   "outputs": [],
   "source": [
    "#32. Develop a program that performs matrix addition and subtraction based on user input."
   ]
  },
  {
   "cell_type": "code",
   "execution_count": 9,
   "id": "ad9fdebc-86d6-4a53-aeb5-442ac93af1e7",
   "metadata": {},
   "outputs": [
    {
     "name": "stdout",
     "output_type": "stream",
     "text": [
      "Printing elements of first matrix\n",
      "[[1 2]\n",
      " [3 4]]\n",
      "Printing elements of second matrix\n",
      "[[4 5]\n",
      " [6 7]]\n",
      "Addition of two matrix\n",
      "[[ 5  7]\n",
      " [ 9 11]]\n",
      "Subtraction of two matrix\n",
      "[[-3 -3]\n",
      " [-3 -3]]\n"
     ]
    }
   ],
   "source": [
    "import numpy as np\n",
    " \n",
    " \n",
    "# creating first matrix\n",
    "A = np.array([[1, 2], [3, 4]])\n",
    " \n",
    "# creating second matrix\n",
    "B = np.array([[4, 5], [6, 7]])\n",
    " \n",
    "print(\"Printing elements of first matrix\")\n",
    "print(A)\n",
    "print(\"Printing elements of second matrix\")\n",
    "print(B)\n",
    " \n",
    "# adding two matrix\n",
    "print(\"Addition of two matrix\")\n",
    "print(np.add(A, B))\n",
    "print(\"Subtraction of two matrix\")\n",
    "print(np.subtract(A, B))"
   ]
  },
  {
   "cell_type": "code",
   "execution_count": null,
   "id": "5151c9bc-2c93-44a9-8ab7-bf4a7725f501",
   "metadata": {},
   "outputs": [],
   "source": [
    "#33. Write a program that calculates the greatest common divisor (GCD) of two numbers using the Euclidean\n",
    "algorithm."
   ]
  },
  {
   "cell_type": "code",
   "execution_count": 12,
   "id": "70b5f98a-5d02-4d63-ac2d-8a6539c423a7",
   "metadata": {},
   "outputs": [
    {
     "data": {
      "text/plain": [
       "14"
      ]
     },
     "execution_count": 12,
     "metadata": {},
     "output_type": "execute_result"
    }
   ],
   "source": [
    "def gcd(a, b):\n",
    " \n",
    "    # Everything divides 0\n",
    "    if (a == 0):\n",
    "        return b\n",
    "    if (b == 0):\n",
    "        return a\n",
    " \n",
    "    # base case\n",
    "    if (a == b):\n",
    "        return a\n",
    " \n",
    "    # a is greater\n",
    "    if (a > b):\n",
    "        return gcd(a-b, b)\n",
    "    return gcd(a, b-a)\n",
    "a = 98\n",
    "b = 56\n",
    "gcd(a,b)"
   ]
  },
  {
   "cell_type": "code",
   "execution_count": null,
   "id": "26b341f6-542f-41e1-97c3-1c0d1a36ee74",
   "metadata": {},
   "outputs": [],
   "source": [
    "#34. Build a program that performs matrix multiplication using nested loops and conditional statements.\n"
   ]
  },
  {
   "cell_type": "code",
   "execution_count": 13,
   "id": "1f1b47cc-9aa4-4738-8d43-b7f2809c06e9",
   "metadata": {},
   "outputs": [
    {
     "name": "stdout",
     "output_type": "stream",
     "text": [
      "Multiplied Matrix:\n",
      "[17, 26, 35, 44]\n",
      "[41, 62, 83, 104]\n",
      "[65, 98, 131, 164]\n"
     ]
    }
   ],
   "source": [
    "A = [[1,2,3],\n",
    "     [4,5,6],\n",
    "     [7,8,9]]\n",
    "# 3x4 matrix\n",
    "B = [[1,2,3,4],\n",
    "     [5,6,7,8],\n",
    "     [2,4,6,8]]\n",
    "# result is 3x4\n",
    "result = [[0,0,0,0],\n",
    "          [0,0,0,0],\n",
    "          [0,0,0,0]]\n",
    "\n",
    "# iterate through rows of Matrix A\n",
    "for i in range(len(A)):\n",
    "    # iterate through columns of Matrix B\n",
    "    for j in range(len(B[0])):\n",
    "        # iterate through rows of Matrix B\n",
    "        for k in range(len(B)):\n",
    "            result[i][j] += A[i][k] * B[k][j]\n",
    "\n",
    "print('Multiplied Matrix:')\n",
    "for r in result:\n",
    "    print(r)"
   ]
  },
  {
   "cell_type": "code",
   "execution_count": null,
   "id": "03134e68-7a58-41f7-931c-45dac2841026",
   "metadata": {},
   "outputs": [],
   "source": [
    "#35. tic tac toe game in python"
   ]
  },
  {
   "cell_type": "code",
   "execution_count": 14,
   "id": "0b5472cb-2e69-432f-83e2-6f11fec9bf18",
   "metadata": {},
   "outputs": [
    {
     "name": "stdout",
     "output_type": "stream",
     "text": [
      "[[0 0 0]\n",
      " [0 0 0]\n",
      " [0 0 0]]\n",
      "Board after 1 move\n",
      "[[0 0 0]\n",
      " [0 0 1]\n",
      " [0 0 0]]\n",
      "Board after 2 move\n",
      "[[0 0 0]\n",
      " [0 0 1]\n",
      " [2 0 0]]\n",
      "Board after 3 move\n",
      "[[0 1 0]\n",
      " [0 0 1]\n",
      " [2 0 0]]\n",
      "Board after 4 move\n",
      "[[0 1 2]\n",
      " [0 0 1]\n",
      " [2 0 0]]\n",
      "Board after 5 move\n",
      "[[0 1 2]\n",
      " [1 0 1]\n",
      " [2 0 0]]\n",
      "Board after 6 move\n",
      "[[0 1 2]\n",
      " [1 0 1]\n",
      " [2 0 2]]\n",
      "Board after 7 move\n",
      "[[1 1 2]\n",
      " [1 0 1]\n",
      " [2 0 2]]\n",
      "Board after 8 move\n",
      "[[1 1 2]\n",
      " [1 0 1]\n",
      " [2 2 2]]\n",
      "Winner is: 2\n"
     ]
    }
   ],
   "source": [
    "import numpy as np\n",
    "import random\n",
    "from time import sleep\n",
    " \n",
    "# Creates an empty board\n",
    " \n",
    " \n",
    "def create_board():\n",
    "    return(np.array([[0, 0, 0],\n",
    "                     [0, 0, 0],\n",
    "                     [0, 0, 0]]))\n",
    " \n",
    "# Check for empty places on board\n",
    " \n",
    " \n",
    "def possibilities(board):\n",
    "    l = []\n",
    " \n",
    "    for i in range(len(board)):\n",
    "        for j in range(len(board)):\n",
    " \n",
    "            if board[i][j] == 0:\n",
    "                l.append((i, j))\n",
    "    return(l)\n",
    " \n",
    "# Select a random place for the player\n",
    " \n",
    " \n",
    "def random_place(board, player):\n",
    "    selection = possibilities(board)\n",
    "    current_loc = random.choice(selection)\n",
    "    board[current_loc] = player\n",
    "    return(board)\n",
    " \n",
    "# Checks whether the player has three\n",
    "# of their marks in a horizontal row\n",
    " \n",
    " \n",
    "def row_win(board, player):\n",
    "    for x in range(len(board)):\n",
    "        win = True\n",
    " \n",
    "        for y in range(len(board)):\n",
    "            if board[x, y] != player:\n",
    "                win = False\n",
    "                continue\n",
    " \n",
    "        if win == True:\n",
    "            return(win)\n",
    "    return(win)\n",
    " \n",
    "# Checks whether the player has three\n",
    "# of their marks in a vertical row\n",
    " \n",
    " \n",
    "def col_win(board, player):\n",
    "    for x in range(len(board)):\n",
    "        win = True\n",
    " \n",
    "        for y in range(len(board)):\n",
    "            if board[y][x] != player:\n",
    "                win = False\n",
    "                continue\n",
    " \n",
    "        if win == True:\n",
    "            return(win)\n",
    "    return(win)\n",
    " \n",
    "# Checks whether the player has three\n",
    "# of their marks in a diagonal row\n",
    " \n",
    " \n",
    "def diag_win(board, player):\n",
    "    win = True\n",
    "    y = 0\n",
    "    for x in range(len(board)):\n",
    "        if board[x, x] != player:\n",
    "            win = False\n",
    "    if win:\n",
    "        return win\n",
    "    win = True\n",
    "    if win:\n",
    "        for x in range(len(board)):\n",
    "            y = len(board) - 1 - x\n",
    "            if board[x, y] != player:\n",
    "                win = False\n",
    "    return win\n",
    " \n",
    "# Evaluates whether there is\n",
    "# a winner or a tie\n",
    " \n",
    " \n",
    "def evaluate(board):\n",
    "    winner = 0\n",
    " \n",
    "    for player in [1, 2]:\n",
    "        if (row_win(board, player) or\n",
    "                col_win(board, player) or\n",
    "                diag_win(board, player)):\n",
    " \n",
    "            winner = player\n",
    " \n",
    "    if np.all(board != 0) and winner == 0:\n",
    "        winner = -1\n",
    "    return winner\n",
    " \n",
    "# Main function to start the game\n",
    " \n",
    " \n",
    "def play_game():\n",
    "    board, winner, counter = create_board(), 0, 1\n",
    "    print(board)\n",
    "    sleep(2)\n",
    " \n",
    "    while winner == 0:\n",
    "        for player in [1, 2]:\n",
    "            board = random_place(board, player)\n",
    "            print(\"Board after \" + str(counter) + \" move\")\n",
    "            print(board)\n",
    "            sleep(2)\n",
    "            counter += 1\n",
    "            winner = evaluate(board)\n",
    "            if winner != 0:\n",
    "                break\n",
    "    return(winner)\n",
    " \n",
    " \n",
    "# Driver Code\n",
    "print(\"Winner is: \" + str(play_game()))"
   ]
  },
  {
   "cell_type": "code",
   "execution_count": null,
   "id": "0e021d8c-0f48-4f63-bee3-277b8fb0d18a",
   "metadata": {},
   "outputs": [],
   "source": [
    "#36. Write a program that generates Fibonacci numbers up to a specified term using iterative methods."
   ]
  },
  {
   "cell_type": "code",
   "execution_count": 15,
   "id": "30ca6dea-b8dd-46b3-a11c-1c48e7c2a6ab",
   "metadata": {},
   "outputs": [
    {
     "name": "stdin",
     "output_type": "stream",
     "text": [
      "How many terms?  6\n"
     ]
    },
    {
     "name": "stdout",
     "output_type": "stream",
     "text": [
      "Fibonacci sequence:\n",
      "0\n",
      "1\n",
      "1\n",
      "2\n",
      "3\n",
      "5\n"
     ]
    }
   ],
   "source": [
    "nterms = int(input(\"How many terms? \"))\n",
    "\n",
    "# first two terms\n",
    "n1, n2 = 0, 1\n",
    "count = 0\n",
    "\n",
    "# check if the number of terms is valid\n",
    "if nterms <= 0:\n",
    "   print(\"Please enter a positive integer\")\n",
    "# if there is only one term, return n1\n",
    "elif nterms == 1:\n",
    "   print(\"Fibonacci sequence upto\",nterms,\":\")\n",
    "   print(n1)\n",
    "# generate fibonacci sequence\n",
    "else:\n",
    "   print(\"Fibonacci sequence:\")\n",
    "   while count < nterms:\n",
    "       print(n1)\n",
    "       nth = n1 + n2\n",
    "       # update values\n",
    "       n1 = n2\n",
    "       n2 = nth\n",
    "       count += 1\n"
   ]
  },
  {
   "cell_type": "code",
   "execution_count": null,
   "id": "718512e3-d28d-4758-b674-f31d32119a10",
   "metadata": {},
   "outputs": [],
   "source": [
    "#37. Develop a program that calculates the nth term of the Fibonacci sequence using memoization."
   ]
  },
  {
   "cell_type": "code",
   "execution_count": 18,
   "id": "ab9dbaf7-cf87-44f1-aa6e-9c497bb93493",
   "metadata": {},
   "outputs": [
    {
     "name": "stdin",
     "output_type": "stream",
     "text": [
      "Enter n:  5\n"
     ]
    },
    {
     "name": "stdout",
     "output_type": "stream",
     "text": [
      "The nth Fibonacci number: 5\n"
     ]
    }
   ],
   "source": [
    "def fibonacci(n):\n",
    "    \"\"\"Return the nth Fibonacci number.\"\"\"\n",
    "    # r[i] will contain the ith Fibonacci number\n",
    "    r = [-1]*(n + 1)\n",
    "    return fibonacci_helper(n, r)\n",
    " \n",
    " \n",
    "def fibonacci_helper(n, r):\n",
    "    \"\"\"Return the nth Fibonacci number and store the ith Fibonacci number in\n",
    "    r[i] for 0 <= i <= n.\"\"\"\n",
    "    if r[n] >= 0:\n",
    "        return r[n]\n",
    " \n",
    "    if (n == 0 or n == 1):\n",
    "        q = n\n",
    "    else:\n",
    "        q = fibonacci_helper(n - 1, r) + fibonacci_helper(n - 2, r)\n",
    "    r[n] = q\n",
    " \n",
    "    return q\n",
    "n = int(input('Enter n: '))\n",
    " \n",
    "ans = fibonacci(n)\n",
    "print('The nth Fibonacci number:', ans)"
   ]
  },
  {
   "cell_type": "code",
   "execution_count": null,
   "id": "a614d230-5b54-4905-9d98-43e1b00dcac9",
   "metadata": {},
   "outputs": [],
   "source": [
    "#38. Create a program that generates a calendar for a given month and year using conditional statements."
   ]
  },
  {
   "cell_type": "code",
   "execution_count": 19,
   "id": "eb9fd123-fd86-432b-aaba-520c28b06f54",
   "metadata": {},
   "outputs": [
    {
     "name": "stdout",
     "output_type": "stream",
     "text": [
      "   November 2014\n",
      "Mo Tu We Th Fr Sa Su\n",
      "                1  2\n",
      " 3  4  5  6  7  8  9\n",
      "10 11 12 13 14 15 16\n",
      "17 18 19 20 21 22 23\n",
      "24 25 26 27 28 29 30\n",
      "\n"
     ]
    }
   ],
   "source": [
    "\n",
    "import calendar\n",
    "\n",
    "yy = 2014  # year\n",
    "mm = 11    # month\n",
    "\n",
    "# display the calendar\n",
    "print(calendar.month(yy, mm))\n",
    "    "
   ]
  },
  {
   "cell_type": "code",
   "execution_count": 20,
   "id": "a0ed120d-6f97-427d-968f-ee5bd5ec0738",
   "metadata": {},
   "outputs": [],
   "source": [
    "#39. blackjack game in python"
   ]
  },
  {
   "cell_type": "code",
   "execution_count": 21,
   "id": "6225ed19-53f4-4e6c-b841-a936fa6faddd",
   "metadata": {},
   "outputs": [
    {
     "name": "stdout",
     "output_type": "stream",
     "text": [
      "Cards Player Has: [('King', 'Diamonds'), ('7', 'Spades')]\n",
      "Score Of The Player: 17\n",
      "\n",
      "\n"
     ]
    },
    {
     "name": "stdin",
     "output_type": "stream",
     "text": [
      "What do you want? [\"play\" to request another card, \"stop\" to stop]:  play\n"
     ]
    },
    {
     "name": "stdout",
     "output_type": "stream",
     "text": [
      "Cards Player Has: [('King', 'Diamonds'), ('7', 'Spades'), ('3', 'Diamonds')]\n",
      "Score Of The Player: 20\n",
      "\n",
      "\n"
     ]
    },
    {
     "name": "stdin",
     "output_type": "stream",
     "text": [
      "What do you want? [\"play\" to request another card, \"stop\" to stop]:  stop\n"
     ]
    },
    {
     "name": "stdout",
     "output_type": "stream",
     "text": [
      "Cards Dealer Has: [('Jack', 'Spades'), ('7', 'Diamonds')]\n",
      "Score Of The Dealer: 17\n",
      "\n",
      "\n",
      "Cards Dealer Has: [('Jack', 'Spades'), ('7', 'Diamonds')]\n",
      "Score Of The Dealer: 17\n",
      "Cards Player Has: [('King', 'Diamonds'), ('7', 'Spades'), ('3', 'Diamonds')]\n",
      "Score Of The Player: 20\n",
      "Player wins (Player Has High Score than Dealer)\n"
     ]
    }
   ],
   "source": [
    "import random \n",
    "  \n",
    "card_categories = ['Hearts', 'Diamonds', 'Clubs', 'Spades'] \n",
    "cards_list = ['Ace', '2', '3', '4', '5', '6', '7', '8', '9', '10', 'Jack', 'Queen', 'King'] \n",
    "deck = [(card, category) for category in card_categories for card in cards_list] \n",
    "  \n",
    "def card_value(card): \n",
    "    if card[0] in ['Jack', 'Queen', 'King']: \n",
    "        return 10\n",
    "    elif card[0] == 'Ace': \n",
    "        return 11\n",
    "    else: \n",
    "        return int(card[0]) \n",
    "  \n",
    "random.shuffle(deck) \n",
    "player_card = [deck.pop(), deck.pop()] \n",
    "dealer_card = [deck.pop(), deck.pop()] \n",
    "  \n",
    "while True: \n",
    "    player_score = sum(card_value(card) for card in player_card) \n",
    "    dealer_score = sum(card_value(card) for card in dealer_card) \n",
    "    print(\"Cards Player Has:\", player_card) \n",
    "    print(\"Score Of The Player:\", player_score) \n",
    "    print(\"\\n\") \n",
    "    choice = input('What do you want? [\"play\" to request another card, \"stop\" to stop]: ').lower() \n",
    "    if choice == \"play\": \n",
    "        new_card = deck.pop() \n",
    "        player_card.append(new_card) \n",
    "    elif choice == \"stop\": \n",
    "        break\n",
    "    else: \n",
    "        print(\"Invalid choice. Please try again.\") \n",
    "        continue\n",
    "  \n",
    "    if player_score > 21: \n",
    "        print(\"Cards Dealer Has:\", dealer_card) \n",
    "        print(\"Score Of The Dealer:\", dealer_score) \n",
    "        print(\"Cards Player Has:\", player_card) \n",
    "        print(\"Score Of The Player:\", player_score) \n",
    "        print(\"Dealer wins (Player Loss Because Player Score is exceeding 21)\") \n",
    "        break\n",
    "  \n",
    "while dealer_score < 17: \n",
    "    new_card = deck.pop() \n",
    "    dealer_card.append(new_card) \n",
    "    dealer_score += card_value(new_card) \n",
    "  \n",
    "print(\"Cards Dealer Has:\", dealer_card) \n",
    "print(\"Score Of The Dealer:\", dealer_score) \n",
    "print(\"\\n\") \n",
    "  \n",
    "if dealer_score > 21: \n",
    "    print(\"Cards Dealer Has:\", dealer_card) \n",
    "    print(\"Score Of The Dealer:\", dealer_score) \n",
    "    print(\"Cards Player Has:\", player_card) \n",
    "    print(\"Score Of The Player:\", player_score) \n",
    "    print(\"Player wins (Dealer Loss Because Dealer Score is exceeding 21)\") \n",
    "elif player_score > dealer_score: \n",
    "    print(\"Cards Dealer Has:\", dealer_card) \n",
    "    print(\"Score Of The Dealer:\", dealer_score) \n",
    "    print(\"Cards Player Has:\", player_card) \n",
    "    print(\"Score Of The Player:\", player_score) \n",
    "    print(\"Player wins (Player Has High Score than Dealer)\") \n",
    "elif dealer_score > player_score: \n",
    "    print(\"Cards Dealer Has:\", dealer_card) \n",
    "    print(\"Score Of The Dealer:\", dealer_score) \n",
    "    print(\"Cards Player Has:\", player_card) \n",
    "    print(\"Score Of The Player:\", player_score) \n",
    "    print(\"Dealer wins (Dealer Has High Score than Player)\") \n",
    "else: \n",
    "    print(\"Cards Dealer Has:\", dealer_card) \n",
    "    print(\"Score Of The Dealer:\", dealer_score) \n",
    "    print(\"Cards Player Has:\", player_card) \n",
    "    print(\"Score Of The Player:\", player_score) \n",
    "    print(\"It's a tie.\")\n"
   ]
  },
  {
   "cell_type": "code",
   "execution_count": null,
   "id": "be23a2ba-a758-442d-809d-6a7ce45656c9",
   "metadata": {},
   "outputs": [],
   "source": [
    "#40. prime number using trial division method"
   ]
  },
  {
   "cell_type": "code",
   "execution_count": 22,
   "id": "6526a905-a898-48a7-9908-854cb33f9ac5",
   "metadata": {},
   "outputs": [
    {
     "name": "stdout",
     "output_type": "stream",
     "text": [
      "Prime\n"
     ]
    }
   ],
   "source": [
    "def TrialDivision(N):\n",
    " \n",
    "    # Initializing with the value 2 \n",
    "    # from where the number is checked\n",
    "    i = 2\n",
    " \n",
    "    # Computing the square root of \n",
    "    # the number N\n",
    "    k = int(N ** 0.5)\n",
    " \n",
    "    # While loop till the \n",
    "    # square root of N\n",
    "    while(i<= k):\n",
    " \n",
    "        # If any of the numbers between \n",
    "        # [2, sqrt(N)] is a factor of N \n",
    "        # Then the number is composite\n",
    "        if(N % i == 0):\n",
    "            return 0\n",
    "        i += 1\n",
    "        return 1\n",
    "     \n",
    "# Driver code\n",
    "if __name__ == \"__main__\":\n",
    "    N = 49\n",
    "    p = TrialDivision(N)\n",
    " \n",
    "# To check if a number is a prime or not\n",
    "    if(p):\n",
    "        print(\"Prime\")\n",
    "    else:\n",
    "        print(\"Composite\")"
   ]
  },
  {
   "cell_type": "code",
   "execution_count": null,
   "id": "988439e5-8dd1-4a85-bf13-272f73a23950",
   "metadata": {},
   "outputs": [],
   "source": []
  }
 ],
 "metadata": {
  "kernelspec": {
   "display_name": "Python 3 (ipykernel)",
   "language": "python",
   "name": "python3"
  },
  "language_info": {
   "codemirror_mode": {
    "name": "ipython",
    "version": 3
   },
   "file_extension": ".py",
   "mimetype": "text/x-python",
   "name": "python",
   "nbconvert_exporter": "python",
   "pygments_lexer": "ipython3",
   "version": "3.10.8"
  }
 },
 "nbformat": 4,
 "nbformat_minor": 5
}
